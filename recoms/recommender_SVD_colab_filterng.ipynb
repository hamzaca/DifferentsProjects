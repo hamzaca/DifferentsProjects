{
 "cells": [
  {
   "cell_type": "markdown",
   "id": "605298a9-8dbe-455c-b688-10568efb1d99",
   "metadata": {},
   "source": [
    "# Recommendation system for Movies : Collabrative filtering\n",
    "\n",
    "Link to download the data : https://grouplens.org/datasets/movielens/"
   ]
  },
  {
   "cell_type": "code",
   "execution_count": 1,
   "id": "f5716e03-4ddd-40d4-a73e-fe95f739352a",
   "metadata": {},
   "outputs": [],
   "source": [
    "import pandas as pd \n",
    "from surprise import Dataset, accuracy, Reader\n",
    "from surprise.model_selection import cross_validate\n",
    "from sklearn.preprocessing import LabelEncoder, MultiLabelBinarizer\n",
    "from sklearn.model_selection import train_test_split\n",
    "pd.set_option('display.max_columns', None)\n"
   ]
  },
  {
   "cell_type": "code",
   "execution_count": 27,
   "id": "8da9143e-9aee-41f8-aaa0-8275c21b34f5",
   "metadata": {},
   "outputs": [],
   "source": [
    "def get_top_n_recommendations(model,df,user_id, n=3):\n",
    "  user_movies = df[df['userId'] == user_id]['movieId'].unique()\n",
    "  all_movies = df['movieId'].unique()\n",
    "  movies_to_predict = list(set(all_movies) - set(user_movies))\n",
    "  user_movie_pairs = [(user_id, movie_id, 0) for movie_id in movies_to_predict]\n",
    "  predictions_cf = model.test(user_movie_pairs)\n",
    "  top_n_recommendations = sorted(predictions_cf, key = lambda x: x.est)[:n]\n",
    "  for pred in top_n_recommendations:\n",
    "    predicted_rating = pred.est\n",
    "    print(predicted_rating)\n",
    "  top_n_movie_ids = [int(pred.iid) for pred in top_n_recommendations]\n",
    "  top_n_movies = movie_encoder.inverse_transform(top_n_movie_ids)\n",
    "  return top_n_movies"
   ]
  },
  {
   "cell_type": "markdown",
   "id": "02a15023-dfd7-4a35-a4ac-c2834b7c72e3",
   "metadata": {},
   "source": [
    "## Read Data : "
   ]
  },
  {
   "cell_type": "code",
   "execution_count": 2,
   "id": "7b01ec80-9f7e-4612-a9ba-3edf2b87a35e",
   "metadata": {},
   "outputs": [],
   "source": [
    "data_size = \"ml-latest-small\"# \"ml-32m\"\n",
    "ratings = pd.read_csv(f\"./data/{data_size}/ratings.csv\")\n",
    "movies = pd.read_csv(f\"./data/{data_size}/movies.csv\")\n",
    "\n"
   ]
  },
  {
   "cell_type": "code",
   "execution_count": 28,
   "id": "27bfba67-d0bf-4556-9393-5b52dd2669d3",
   "metadata": {},
   "outputs": [
    {
     "data": {
      "text/html": [
       "<div>\n",
       "<style scoped>\n",
       "    .dataframe tbody tr th:only-of-type {\n",
       "        vertical-align: middle;\n",
       "    }\n",
       "\n",
       "    .dataframe tbody tr th {\n",
       "        vertical-align: top;\n",
       "    }\n",
       "\n",
       "    .dataframe thead th {\n",
       "        text-align: right;\n",
       "    }\n",
       "</style>\n",
       "<table border=\"1\" class=\"dataframe\">\n",
       "  <thead>\n",
       "    <tr style=\"text-align: right;\">\n",
       "      <th></th>\n",
       "      <th>userId</th>\n",
       "      <th>movieId</th>\n",
       "      <th>rating</th>\n",
       "      <th>timestamp</th>\n",
       "    </tr>\n",
       "  </thead>\n",
       "  <tbody>\n",
       "    <tr>\n",
       "      <th>0</th>\n",
       "      <td>1</td>\n",
       "      <td>1</td>\n",
       "      <td>4.0</td>\n",
       "      <td>964982703</td>\n",
       "    </tr>\n",
       "    <tr>\n",
       "      <th>1</th>\n",
       "      <td>1</td>\n",
       "      <td>3</td>\n",
       "      <td>4.0</td>\n",
       "      <td>964981247</td>\n",
       "    </tr>\n",
       "  </tbody>\n",
       "</table>\n",
       "</div>"
      ],
      "text/plain": [
       "   userId  movieId  rating  timestamp\n",
       "0       1        1     4.0  964982703\n",
       "1       1        3     4.0  964981247"
      ]
     },
     "execution_count": 28,
     "metadata": {},
     "output_type": "execute_result"
    }
   ],
   "source": [
    "ratings.head(2)"
   ]
  },
  {
   "cell_type": "code",
   "execution_count": 29,
   "id": "0eec7f35-cd1d-4485-a69d-c23bb93faf2e",
   "metadata": {},
   "outputs": [
    {
     "data": {
      "text/html": [
       "<div>\n",
       "<style scoped>\n",
       "    .dataframe tbody tr th:only-of-type {\n",
       "        vertical-align: middle;\n",
       "    }\n",
       "\n",
       "    .dataframe tbody tr th {\n",
       "        vertical-align: top;\n",
       "    }\n",
       "\n",
       "    .dataframe thead th {\n",
       "        text-align: right;\n",
       "    }\n",
       "</style>\n",
       "<table border=\"1\" class=\"dataframe\">\n",
       "  <thead>\n",
       "    <tr style=\"text-align: right;\">\n",
       "      <th></th>\n",
       "      <th>movieId</th>\n",
       "      <th>title</th>\n",
       "      <th>genres</th>\n",
       "    </tr>\n",
       "  </thead>\n",
       "  <tbody>\n",
       "    <tr>\n",
       "      <th>0</th>\n",
       "      <td>1</td>\n",
       "      <td>Toy Story (1995)</td>\n",
       "      <td>Adventure|Animation|Children|Comedy|Fantasy</td>\n",
       "    </tr>\n",
       "    <tr>\n",
       "      <th>1</th>\n",
       "      <td>2</td>\n",
       "      <td>Jumanji (1995)</td>\n",
       "      <td>Adventure|Children|Fantasy</td>\n",
       "    </tr>\n",
       "  </tbody>\n",
       "</table>\n",
       "</div>"
      ],
      "text/plain": [
       "   movieId             title                                       genres\n",
       "0        1  Toy Story (1995)  Adventure|Animation|Children|Comedy|Fantasy\n",
       "1        2    Jumanji (1995)                   Adventure|Children|Fantasy"
      ]
     },
     "execution_count": 29,
     "metadata": {},
     "output_type": "execute_result"
    }
   ],
   "source": [
    "movies.head(2)"
   ]
  },
  {
   "cell_type": "code",
   "execution_count": 30,
   "id": "cef4c874-fd15-4667-85a6-e553e949d6cc",
   "metadata": {},
   "outputs": [
    {
     "data": {
      "text/html": [
       "<div>\n",
       "<style scoped>\n",
       "    .dataframe tbody tr th:only-of-type {\n",
       "        vertical-align: middle;\n",
       "    }\n",
       "\n",
       "    .dataframe tbody tr th {\n",
       "        vertical-align: top;\n",
       "    }\n",
       "\n",
       "    .dataframe thead th {\n",
       "        text-align: right;\n",
       "    }\n",
       "</style>\n",
       "<table border=\"1\" class=\"dataframe\">\n",
       "  <thead>\n",
       "    <tr style=\"text-align: right;\">\n",
       "      <th></th>\n",
       "      <th>userId</th>\n",
       "      <th>movieId</th>\n",
       "      <th>rating</th>\n",
       "      <th>timestamp</th>\n",
       "      <th>genres</th>\n",
       "    </tr>\n",
       "  </thead>\n",
       "  <tbody>\n",
       "    <tr>\n",
       "      <th>0</th>\n",
       "      <td>1</td>\n",
       "      <td>1</td>\n",
       "      <td>4.0</td>\n",
       "      <td>964982703</td>\n",
       "      <td>Adventure|Animation|Children|Comedy|Fantasy</td>\n",
       "    </tr>\n",
       "    <tr>\n",
       "      <th>1</th>\n",
       "      <td>1</td>\n",
       "      <td>3</td>\n",
       "      <td>4.0</td>\n",
       "      <td>964981247</td>\n",
       "      <td>Comedy|Romance</td>\n",
       "    </tr>\n",
       "  </tbody>\n",
       "</table>\n",
       "</div>"
      ],
      "text/plain": [
       "   userId  movieId  rating  timestamp  \\\n",
       "0       1        1     4.0  964982703   \n",
       "1       1        3     4.0  964981247   \n",
       "\n",
       "                                        genres  \n",
       "0  Adventure|Animation|Children|Comedy|Fantasy  \n",
       "1                               Comedy|Romance  "
      ]
     },
     "execution_count": 30,
     "metadata": {},
     "output_type": "execute_result"
    }
   ],
   "source": [
    "movies_ratings = pd.merge(left=ratings, right=movies, how='left' , on=\"movieId\")\n",
    "movies_ratings.drop(columns=[\"title\"], inplace=True)\n",
    "movies_ratings.head(2)"
   ]
  },
  {
   "cell_type": "markdown",
   "id": "4962b8ba-3088-4926-918f-8607e4c3c2d7",
   "metadata": {},
   "source": [
    "## Preprocess data : "
   ]
  },
  {
   "cell_type": "code",
   "execution_count": 6,
   "id": "77348e9d-a4b7-4672-987f-24cb6b613de8",
   "metadata": {},
   "outputs": [],
   "source": [
    "user_encoder = LabelEncoder()\n",
    "movie_encoder = LabelEncoder()\n",
    "mlb = MultiLabelBinarizer()\n",
    "\n",
    "movies_ratings['userId'] = user_encoder.fit_transform(movies_ratings['userId'])\n",
    "movies_ratings['movieId'] = movie_encoder.fit_transform(movies_ratings['movieId'])"
   ]
  },
  {
   "cell_type": "code",
   "execution_count": 7,
   "id": "b7c4afb5-dd44-4c67-b01d-6c8f480c4802",
   "metadata": {},
   "outputs": [
    {
     "data": {
      "text/plain": [
       "0         [Adventure, Animation, Children, Comedy, Fantasy]\n",
       "1                                         [Comedy, Romance]\n",
       "2                                 [Action, Crime, Thriller]\n",
       "3                                       [Mystery, Thriller]\n",
       "4                                [Crime, Mystery, Thriller]\n",
       "                                ...                        \n",
       "100831                            [Drama, Horror, Thriller]\n",
       "100832                            [Action, Crime, Thriller]\n",
       "100833                                             [Horror]\n",
       "100834                                     [Action, Sci-Fi]\n",
       "100835                     [Action, Crime, Drama, Thriller]\n",
       "Name: genres, Length: 100836, dtype: object"
      ]
     },
     "execution_count": 7,
     "metadata": {},
     "output_type": "execute_result"
    }
   ],
   "source": [
    "genres_list_df= movies_ratings.pop('genres').str.split('|')\n",
    "genres_list_df"
   ]
  },
  {
   "cell_type": "code",
   "execution_count": null,
   "id": "320ce31a-83c9-41ed-992f-1d7b08b2b0a1",
   "metadata": {},
   "outputs": [],
   "source": []
  },
  {
   "cell_type": "code",
   "execution_count": 8,
   "id": "dcbb5e5c-206e-45f3-8c9c-0ee5d6baae12",
   "metadata": {},
   "outputs": [],
   "source": [
    "# For each film find the genres that represent it. put 0 for each genres.\n",
    "movies_ratings = movies_ratings.join(pd.DataFrame(mlb.fit_transform(genres_list_df), columns = mlb.classes_, index = movies_ratings.index ))\n"
   ]
  },
  {
   "cell_type": "code",
   "execution_count": 9,
   "id": "d70c9939-017b-4e83-8cd5-cf1bde822aa1",
   "metadata": {},
   "outputs": [
    {
     "data": {
      "text/html": [
       "<div>\n",
       "<style scoped>\n",
       "    .dataframe tbody tr th:only-of-type {\n",
       "        vertical-align: middle;\n",
       "    }\n",
       "\n",
       "    .dataframe tbody tr th {\n",
       "        vertical-align: top;\n",
       "    }\n",
       "\n",
       "    .dataframe thead th {\n",
       "        text-align: right;\n",
       "    }\n",
       "</style>\n",
       "<table border=\"1\" class=\"dataframe\">\n",
       "  <thead>\n",
       "    <tr style=\"text-align: right;\">\n",
       "      <th></th>\n",
       "      <th>userId</th>\n",
       "      <th>movieId</th>\n",
       "      <th>rating</th>\n",
       "      <th>timestamp</th>\n",
       "      <th>(no genres listed)</th>\n",
       "      <th>Action</th>\n",
       "      <th>Adventure</th>\n",
       "      <th>Animation</th>\n",
       "      <th>Children</th>\n",
       "      <th>Comedy</th>\n",
       "      <th>Crime</th>\n",
       "      <th>Documentary</th>\n",
       "      <th>Drama</th>\n",
       "      <th>Fantasy</th>\n",
       "      <th>Film-Noir</th>\n",
       "      <th>Horror</th>\n",
       "      <th>IMAX</th>\n",
       "      <th>Musical</th>\n",
       "      <th>Mystery</th>\n",
       "      <th>Romance</th>\n",
       "      <th>Sci-Fi</th>\n",
       "      <th>Thriller</th>\n",
       "      <th>War</th>\n",
       "      <th>Western</th>\n",
       "    </tr>\n",
       "  </thead>\n",
       "  <tbody>\n",
       "    <tr>\n",
       "      <th>0</th>\n",
       "      <td>0</td>\n",
       "      <td>0</td>\n",
       "      <td>4.0</td>\n",
       "      <td>964982703</td>\n",
       "      <td>0</td>\n",
       "      <td>0</td>\n",
       "      <td>1</td>\n",
       "      <td>1</td>\n",
       "      <td>1</td>\n",
       "      <td>1</td>\n",
       "      <td>0</td>\n",
       "      <td>0</td>\n",
       "      <td>0</td>\n",
       "      <td>1</td>\n",
       "      <td>0</td>\n",
       "      <td>0</td>\n",
       "      <td>0</td>\n",
       "      <td>0</td>\n",
       "      <td>0</td>\n",
       "      <td>0</td>\n",
       "      <td>0</td>\n",
       "      <td>0</td>\n",
       "      <td>0</td>\n",
       "      <td>0</td>\n",
       "    </tr>\n",
       "    <tr>\n",
       "      <th>1</th>\n",
       "      <td>0</td>\n",
       "      <td>2</td>\n",
       "      <td>4.0</td>\n",
       "      <td>964981247</td>\n",
       "      <td>0</td>\n",
       "      <td>0</td>\n",
       "      <td>0</td>\n",
       "      <td>0</td>\n",
       "      <td>0</td>\n",
       "      <td>1</td>\n",
       "      <td>0</td>\n",
       "      <td>0</td>\n",
       "      <td>0</td>\n",
       "      <td>0</td>\n",
       "      <td>0</td>\n",
       "      <td>0</td>\n",
       "      <td>0</td>\n",
       "      <td>0</td>\n",
       "      <td>0</td>\n",
       "      <td>1</td>\n",
       "      <td>0</td>\n",
       "      <td>0</td>\n",
       "      <td>0</td>\n",
       "      <td>0</td>\n",
       "    </tr>\n",
       "    <tr>\n",
       "      <th>2</th>\n",
       "      <td>0</td>\n",
       "      <td>5</td>\n",
       "      <td>4.0</td>\n",
       "      <td>964982224</td>\n",
       "      <td>0</td>\n",
       "      <td>1</td>\n",
       "      <td>0</td>\n",
       "      <td>0</td>\n",
       "      <td>0</td>\n",
       "      <td>0</td>\n",
       "      <td>1</td>\n",
       "      <td>0</td>\n",
       "      <td>0</td>\n",
       "      <td>0</td>\n",
       "      <td>0</td>\n",
       "      <td>0</td>\n",
       "      <td>0</td>\n",
       "      <td>0</td>\n",
       "      <td>0</td>\n",
       "      <td>0</td>\n",
       "      <td>0</td>\n",
       "      <td>1</td>\n",
       "      <td>0</td>\n",
       "      <td>0</td>\n",
       "    </tr>\n",
       "    <tr>\n",
       "      <th>3</th>\n",
       "      <td>0</td>\n",
       "      <td>43</td>\n",
       "      <td>5.0</td>\n",
       "      <td>964983815</td>\n",
       "      <td>0</td>\n",
       "      <td>0</td>\n",
       "      <td>0</td>\n",
       "      <td>0</td>\n",
       "      <td>0</td>\n",
       "      <td>0</td>\n",
       "      <td>0</td>\n",
       "      <td>0</td>\n",
       "      <td>0</td>\n",
       "      <td>0</td>\n",
       "      <td>0</td>\n",
       "      <td>0</td>\n",
       "      <td>0</td>\n",
       "      <td>0</td>\n",
       "      <td>1</td>\n",
       "      <td>0</td>\n",
       "      <td>0</td>\n",
       "      <td>1</td>\n",
       "      <td>0</td>\n",
       "      <td>0</td>\n",
       "    </tr>\n",
       "    <tr>\n",
       "      <th>4</th>\n",
       "      <td>0</td>\n",
       "      <td>46</td>\n",
       "      <td>5.0</td>\n",
       "      <td>964982931</td>\n",
       "      <td>0</td>\n",
       "      <td>0</td>\n",
       "      <td>0</td>\n",
       "      <td>0</td>\n",
       "      <td>0</td>\n",
       "      <td>0</td>\n",
       "      <td>1</td>\n",
       "      <td>0</td>\n",
       "      <td>0</td>\n",
       "      <td>0</td>\n",
       "      <td>0</td>\n",
       "      <td>0</td>\n",
       "      <td>0</td>\n",
       "      <td>0</td>\n",
       "      <td>1</td>\n",
       "      <td>0</td>\n",
       "      <td>0</td>\n",
       "      <td>1</td>\n",
       "      <td>0</td>\n",
       "      <td>0</td>\n",
       "    </tr>\n",
       "  </tbody>\n",
       "</table>\n",
       "</div>"
      ],
      "text/plain": [
       "   userId  movieId  rating  timestamp  (no genres listed)  Action  Adventure  \\\n",
       "0       0        0     4.0  964982703                   0       0          1   \n",
       "1       0        2     4.0  964981247                   0       0          0   \n",
       "2       0        5     4.0  964982224                   0       1          0   \n",
       "3       0       43     5.0  964983815                   0       0          0   \n",
       "4       0       46     5.0  964982931                   0       0          0   \n",
       "\n",
       "   Animation  Children  Comedy  Crime  Documentary  Drama  Fantasy  Film-Noir  \\\n",
       "0          1         1       1      0            0      0        1          0   \n",
       "1          0         0       1      0            0      0        0          0   \n",
       "2          0         0       0      1            0      0        0          0   \n",
       "3          0         0       0      0            0      0        0          0   \n",
       "4          0         0       0      1            0      0        0          0   \n",
       "\n",
       "   Horror  IMAX  Musical  Mystery  Romance  Sci-Fi  Thriller  War  Western  \n",
       "0       0     0        0        0        0       0         0    0        0  \n",
       "1       0     0        0        0        1       0         0    0        0  \n",
       "2       0     0        0        0        0       0         1    0        0  \n",
       "3       0     0        0        1        0       0         1    0        0  \n",
       "4       0     0        0        1        0       0         1    0        0  "
      ]
     },
     "execution_count": 9,
     "metadata": {},
     "output_type": "execute_result"
    }
   ],
   "source": [
    "movies_ratings.head()"
   ]
  },
  {
   "cell_type": "code",
   "execution_count": 10,
   "id": "a88a81b7-837d-4d45-95ca-cd91bbb9aaa6",
   "metadata": {},
   "outputs": [],
   "source": [
    "movies_ratings.drop(columns=[\"(no genres listed)\"], inplace=True)"
   ]
  },
  {
   "cell_type": "raw",
   "id": "75ce7872-066e-4dbc-a221-cf5a77ccbf59",
   "metadata": {},
   "source": [
    "Action\tAdventure\tAnimation\tChildren\tComedy\tCrime\tDocumentary\tDrama\tFantasy\tFilm-Noir\tHorror\tIMAX\tMusical\tMystery\tRomance\tSci-Fi\tThriller\tWar\tWestern"
   ]
  },
  {
   "cell_type": "markdown",
   "id": "11bcd954-0275-47c0-b159-8b7786860d1a",
   "metadata": {},
   "source": [
    "##### Split Data : "
   ]
  },
  {
   "cell_type": "code",
   "execution_count": 11,
   "id": "5d151f68-9c57-421b-b281-a733d79eed72",
   "metadata": {},
   "outputs": [
    {
     "name": "stdout",
     "output_type": "stream",
     "text": [
      "Train size = 1739421\n",
      "Test  size = 579807\n"
     ]
    }
   ],
   "source": [
    "train, test = train_test_split(movies_ratings, test_size=0.25)\n",
    "print(f\"Train size = {train.size}\")\n",
    "print(f\"Test  size = {test.size}\")"
   ]
  },
  {
   "cell_type": "code",
   "execution_count": null,
   "id": "2fe47f30-182c-480c-89b0-68e9db663d10",
   "metadata": {},
   "outputs": [],
   "source": []
  },
  {
   "cell_type": "code",
   "execution_count": 12,
   "id": "e68d91ef-c36a-4ee3-8839-6bbd0b0ba3ad",
   "metadata": {},
   "outputs": [],
   "source": [
    "# As I am loading a custom dataset, we need to define a reader.\n",
    "reader = Reader(rating_scale = (0.5, 5))"
   ]
  },
  {
   "cell_type": "code",
   "execution_count": 13,
   "id": "d893d402-4560-4bb0-81ac-c760b56fa5cc",
   "metadata": {},
   "outputs": [],
   "source": [
    "train_data = Dataset.load_from_df(train[[\"userId\", \"movieId\", \"rating\"]], reader).build_full_trainset()\n",
    "testset = train_data.build_anti_testset()"
   ]
  },
  {
   "cell_type": "markdown",
   "id": "8ffd2b5d-4e83-43aa-b368-34e7bfb3374a",
   "metadata": {},
   "source": [
    "## train model using collab filtering: "
   ]
  },
  {
   "cell_type": "code",
   "execution_count": 14,
   "id": "cee5f8c3-7b2b-4393-bac9-81b93dbca93b",
   "metadata": {},
   "outputs": [],
   "source": [
    "from surprise.prediction_algorithms.matrix_factorization import SVD"
   ]
  },
  {
   "cell_type": "code",
   "execution_count": 15,
   "id": "22344dbc-b2be-4454-81ad-91525484becd",
   "metadata": {},
   "outputs": [
    {
     "name": "stdout",
     "output_type": "stream",
     "text": [
      "Processing epoch 0\n",
      "Processing epoch 1\n",
      "Processing epoch 2\n",
      "Processing epoch 3\n",
      "Processing epoch 4\n",
      "Processing epoch 5\n",
      "Processing epoch 6\n",
      "Processing epoch 7\n",
      "Processing epoch 8\n",
      "Processing epoch 9\n",
      "Processing epoch 10\n",
      "Processing epoch 11\n",
      "Processing epoch 12\n",
      "Processing epoch 13\n",
      "Processing epoch 14\n",
      "Processing epoch 15\n",
      "Processing epoch 16\n",
      "Processing epoch 17\n",
      "Processing epoch 18\n",
      "Processing epoch 19\n",
      "Processing epoch 20\n",
      "Processing epoch 21\n",
      "Processing epoch 22\n",
      "Processing epoch 23\n",
      "Processing epoch 24\n",
      "Processing epoch 25\n",
      "Processing epoch 26\n",
      "Processing epoch 27\n",
      "Processing epoch 28\n",
      "Processing epoch 29\n"
     ]
    },
    {
     "data": {
      "text/plain": [
       "<surprise.prediction_algorithms.matrix_factorization.SVD at 0x1a4a585e320>"
      ]
     },
     "execution_count": 15,
     "metadata": {},
     "output_type": "execute_result"
    }
   ],
   "source": [
    "svd = SVD(random_state=0, n_factors=200, n_epochs=30, verbose=True)\n",
    "svd.fit(train_data)"
   ]
  },
  {
   "cell_type": "markdown",
   "id": "c4a87ca0-2a68-4afc-a92e-c018cd87756a",
   "metadata": {},
   "source": [
    "#### Root mean squared error"
   ]
  },
  {
   "cell_type": "code",
   "execution_count": 32,
   "id": "0fd669bd-3352-4639-a2d1-189fd38b92b1",
   "metadata": {},
   "outputs": [
    {
     "name": "stdout",
     "output_type": "stream",
     "text": [
      "RMSE: 0.4898\n",
      "Root mean squared error = 0.48983484359459833\n"
     ]
    }
   ],
   "source": [
    "predictions_svd = svd.test(testset)\n",
    "rsme_value = accuracy.rmse(predictions_svd)\n",
    "print(f\"Root mean squared error = {rsme_value}\")"
   ]
  },
  {
   "cell_type": "markdown",
   "id": "d4af00d0-a764-4bb4-80a0-84fa4e1b902c",
   "metadata": {},
   "source": [
    "## Recommendation : "
   ]
  },
  {
   "cell_type": "code",
   "execution_count": 26,
   "id": "9db650e1-204b-44d9-8a73-591d92631be2",
   "metadata": {},
   "outputs": [
    {
     "name": "stdout",
     "output_type": "stream",
     "text": [
      "2.3715523935887095\n",
      "2.5656907653845176\n",
      "2.8114653310951345\n",
      "Top 3 Recommendations for User 58:\n",
      "1.Stuart Saves His Family (1995)\n",
      "2.I Know What You Did Last Summer (1997)\n",
      "3.Inspector Gadget (1999)\n"
     ]
    }
   ],
   "source": [
    "user_id = 58\n",
    "n_recommendation = 3\n",
    "recommendations = get_top_n_recommendations(svd, movies_ratings,user_id, n_recommendation)\n",
    "top_n_movies_titles = movies[movies['movieId'].isin(recommendations)]['title'].tolist()\n",
    "print(f\"Top {n_recommendation} Recommendations for User {user_id}:\")\n",
    "for i, title in enumerate(top_n_movies_titles, 1):\n",
    "  print(f\"{i}.{title}\")"
   ]
  },
  {
   "cell_type": "code",
   "execution_count": null,
   "id": "1f75fbc0-2dc6-4eae-a49c-6eb98e3b88c3",
   "metadata": {},
   "outputs": [],
   "source": []
  }
 ],
 "metadata": {
  "kernelspec": {
   "display_name": "Python 3 (ipykernel)",
   "language": "python",
   "name": "python3"
  },
  "language_info": {
   "codemirror_mode": {
    "name": "ipython",
    "version": 3
   },
   "file_extension": ".py",
   "mimetype": "text/x-python",
   "name": "python",
   "nbconvert_exporter": "python",
   "pygments_lexer": "ipython3",
   "version": "3.10.13"
  }
 },
 "nbformat": 4,
 "nbformat_minor": 5
}
