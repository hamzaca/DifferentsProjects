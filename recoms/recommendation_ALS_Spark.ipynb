{
  "nbformat": 4,
  "nbformat_minor": 0,
  "metadata": {
    "colab": {
      "provenance": []
    },
    "kernelspec": {
      "name": "python3",
      "display_name": "Python 3"
    },
    "language_info": {
      "name": "python"
    }
  },
  "cells": [
    {
      "cell_type": "code",
      "execution_count": 13,
      "metadata": {
        "id": "OHtIdJ86J8mh"
      },
      "outputs": [],
      "source": []
    },
    {
      "cell_type": "markdown",
      "source": [],
      "metadata": {
        "id": "d2LcYA8EsR49"
      }
    },
    {
      "cell_type": "markdown",
      "source": [
        "# Alternating Least Squares Using  Spark MLB"
      ],
      "metadata": {
        "id": "PE5rrDpLdyc3"
      }
    },
    {
      "cell_type": "code",
      "source": [
        "!pip install recommenders pyspark pandas seaborn matplotlib scikit-surprise"
      ],
      "metadata": {
        "colab": {
          "base_uri": "https://localhost:8080/"
        },
        "id": "grvmCQIZKMLm",
        "outputId": "b12bc521-9843-447f-ef64-a2c4a58c2125"
      },
      "execution_count": 14,
      "outputs": [
        {
          "output_type": "stream",
          "name": "stdout",
          "text": [
            "Requirement already satisfied: recommenders in /usr/local/lib/python3.10/dist-packages (1.2.0)\n",
            "Requirement already satisfied: pyspark in /usr/local/lib/python3.10/dist-packages (3.5.3)\n",
            "Requirement already satisfied: pandas in /usr/local/lib/python3.10/dist-packages (2.2.2)\n",
            "Requirement already satisfied: seaborn in /usr/local/lib/python3.10/dist-packages (0.13.2)\n",
            "Requirement already satisfied: matplotlib in /usr/local/lib/python3.10/dist-packages (3.7.1)\n",
            "Requirement already satisfied: scikit-surprise in /usr/local/lib/python3.10/dist-packages (1.1.4)\n",
            "Requirement already satisfied: category-encoders<3,>=2.6.0 in /usr/local/lib/python3.10/dist-packages (from recommenders) (2.6.4)\n",
            "Requirement already satisfied: cornac<2,>=1.15.2 in /usr/local/lib/python3.10/dist-packages (from recommenders) (1.18.0)\n",
            "Requirement already satisfied: hyperopt<1,>=0.2.7 in /usr/local/lib/python3.10/dist-packages (from recommenders) (0.2.7)\n",
            "Requirement already satisfied: lightfm<2,>=1.17 in /usr/local/lib/python3.10/dist-packages (from recommenders) (1.17)\n",
            "Requirement already satisfied: lightgbm<5,>=4.0.0 in /usr/local/lib/python3.10/dist-packages (from recommenders) (4.5.0)\n",
            "Requirement already satisfied: locust<3,>=2.12.2 in /usr/local/lib/python3.10/dist-packages (from recommenders) (2.32.0)\n",
            "Requirement already satisfied: memory-profiler<1,>=0.61.0 in /usr/local/lib/python3.10/dist-packages (from recommenders) (0.61.0)\n",
            "Requirement already satisfied: nltk<4,>=3.8.1 in /usr/local/lib/python3.10/dist-packages (from recommenders) (3.8.1)\n",
            "Requirement already satisfied: notebook<8,>=7.0.0 in /usr/local/lib/python3.10/dist-packages (from recommenders) (7.2.2)\n",
            "Requirement already satisfied: numba<1,>=0.57.0 in /usr/local/lib/python3.10/dist-packages (from recommenders) (0.60.0)\n",
            "Requirement already satisfied: retrying<2,>=1.3.4 in /usr/local/lib/python3.10/dist-packages (from recommenders) (1.3.4)\n",
            "Requirement already satisfied: scikit-learn<2,>=1.2.0 in /usr/local/lib/python3.10/dist-packages (from recommenders) (1.5.2)\n",
            "Requirement already satisfied: scipy>=1.10.1 in /usr/local/lib/python3.10/dist-packages (from recommenders) (1.13.1)\n",
            "Requirement already satisfied: transformers<5,>=4.27.0 in /usr/local/lib/python3.10/dist-packages (from recommenders) (4.44.2)\n",
            "Requirement already satisfied: pandera>=0.15.0 in /usr/local/lib/python3.10/dist-packages (from pandera[strategies]>=0.15.0; python_version >= \"3.9\"->recommenders) (0.20.4)\n",
            "Requirement already satisfied: py4j==0.10.9.7 in /usr/local/lib/python3.10/dist-packages (from pyspark) (0.10.9.7)\n",
            "Requirement already satisfied: numpy>=1.22.4 in /usr/local/lib/python3.10/dist-packages (from pandas) (1.26.4)\n",
            "Requirement already satisfied: python-dateutil>=2.8.2 in /usr/local/lib/python3.10/dist-packages (from pandas) (2.8.2)\n",
            "Requirement already satisfied: pytz>=2020.1 in /usr/local/lib/python3.10/dist-packages (from pandas) (2024.2)\n",
            "Requirement already satisfied: tzdata>=2022.7 in /usr/local/lib/python3.10/dist-packages (from pandas) (2024.2)\n",
            "Requirement already satisfied: contourpy>=1.0.1 in /usr/local/lib/python3.10/dist-packages (from matplotlib) (1.3.0)\n",
            "Requirement already satisfied: cycler>=0.10 in /usr/local/lib/python3.10/dist-packages (from matplotlib) (0.12.1)\n",
            "Requirement already satisfied: fonttools>=4.22.0 in /usr/local/lib/python3.10/dist-packages (from matplotlib) (4.54.1)\n",
            "Requirement already satisfied: kiwisolver>=1.0.1 in /usr/local/lib/python3.10/dist-packages (from matplotlib) (1.4.7)\n",
            "Requirement already satisfied: packaging>=20.0 in /usr/local/lib/python3.10/dist-packages (from matplotlib) (24.1)\n",
            "Requirement already satisfied: pillow>=6.2.0 in /usr/local/lib/python3.10/dist-packages (from matplotlib) (10.4.0)\n",
            "Requirement already satisfied: pyparsing>=2.3.1 in /usr/local/lib/python3.10/dist-packages (from matplotlib) (3.1.4)\n",
            "Requirement already satisfied: joblib>=1.2.0 in /usr/local/lib/python3.10/dist-packages (from scikit-surprise) (1.4.2)\n",
            "Requirement already satisfied: statsmodels>=0.9.0 in /usr/local/lib/python3.10/dist-packages (from category-encoders<3,>=2.6.0->recommenders) (0.14.4)\n",
            "Requirement already satisfied: patsy>=0.5.1 in /usr/local/lib/python3.10/dist-packages (from category-encoders<3,>=2.6.0->recommenders) (0.5.6)\n",
            "Requirement already satisfied: tqdm in /usr/local/lib/python3.10/dist-packages (from cornac<2,>=1.15.2->recommenders) (4.66.5)\n",
            "Requirement already satisfied: powerlaw in /usr/local/lib/python3.10/dist-packages (from cornac<2,>=1.15.2->recommenders) (1.5)\n",
            "Requirement already satisfied: six in /usr/local/lib/python3.10/dist-packages (from hyperopt<1,>=0.2.7->recommenders) (1.16.0)\n",
            "Requirement already satisfied: networkx>=2.2 in /usr/local/lib/python3.10/dist-packages (from hyperopt<1,>=0.2.7->recommenders) (3.4)\n",
            "Requirement already satisfied: future in /usr/local/lib/python3.10/dist-packages (from hyperopt<1,>=0.2.7->recommenders) (1.0.0)\n",
            "Requirement already satisfied: cloudpickle in /usr/local/lib/python3.10/dist-packages (from hyperopt<1,>=0.2.7->recommenders) (2.2.1)\n",
            "Requirement already satisfied: requests in /usr/local/lib/python3.10/dist-packages (from lightfm<2,>=1.17->recommenders) (2.32.3)\n",
            "Requirement already satisfied: ConfigArgParse>=1.5.5 in /usr/local/lib/python3.10/dist-packages (from locust<3,>=2.12.2->recommenders) (1.7)\n",
            "Requirement already satisfied: Flask-Cors>=3.0.10 in /usr/local/lib/python3.10/dist-packages (from locust<3,>=2.12.2->recommenders) (5.0.0)\n",
            "Requirement already satisfied: Flask-Login>=0.6.3 in /usr/local/lib/python3.10/dist-packages (from locust<3,>=2.12.2->recommenders) (0.6.3)\n",
            "Requirement already satisfied: Werkzeug>=2.0.0 in /usr/local/lib/python3.10/dist-packages (from locust<3,>=2.12.2->recommenders) (3.0.4)\n",
            "Requirement already satisfied: flask>=2.0.0 in /usr/local/lib/python3.10/dist-packages (from locust<3,>=2.12.2->recommenders) (2.2.5)\n",
            "Requirement already satisfied: gevent>=22.10.2 in /usr/local/lib/python3.10/dist-packages (from locust<3,>=2.12.2->recommenders) (24.10.2)\n",
            "Requirement already satisfied: geventhttpclient>=2.3.1 in /usr/local/lib/python3.10/dist-packages (from locust<3,>=2.12.2->recommenders) (2.3.1)\n",
            "Requirement already satisfied: msgpack>=1.0.0 in /usr/local/lib/python3.10/dist-packages (from locust<3,>=2.12.2->recommenders) (1.0.8)\n",
            "Requirement already satisfied: psutil>=5.9.1 in /usr/local/lib/python3.10/dist-packages (from locust<3,>=2.12.2->recommenders) (5.9.5)\n",
            "Requirement already satisfied: pyzmq>=25.0.0 in /usr/local/lib/python3.10/dist-packages (from locust<3,>=2.12.2->recommenders) (26.2.0)\n",
            "Requirement already satisfied: tomli>=1.1.0 in /usr/local/lib/python3.10/dist-packages (from locust<3,>=2.12.2->recommenders) (2.0.2)\n",
            "Requirement already satisfied: typing_extensions>=4.6.0 in /usr/local/lib/python3.10/dist-packages (from locust<3,>=2.12.2->recommenders) (4.12.2)\n",
            "Requirement already satisfied: click in /usr/local/lib/python3.10/dist-packages (from nltk<4,>=3.8.1->recommenders) (8.1.7)\n",
            "Requirement already satisfied: regex>=2021.8.3 in /usr/local/lib/python3.10/dist-packages (from nltk<4,>=3.8.1->recommenders) (2024.9.11)\n",
            "Requirement already satisfied: jupyter-server<3,>=2.4.0 in /usr/local/lib/python3.10/dist-packages (from notebook<8,>=7.0.0->recommenders) (2.14.2)\n",
            "Requirement already satisfied: jupyterlab-server<3,>=2.27.1 in /usr/local/lib/python3.10/dist-packages (from notebook<8,>=7.0.0->recommenders) (2.27.3)\n",
            "Requirement already satisfied: jupyterlab<4.3,>=4.2.0 in /usr/local/lib/python3.10/dist-packages (from notebook<8,>=7.0.0->recommenders) (4.2.5)\n",
            "Requirement already satisfied: notebook-shim<0.3,>=0.2 in /usr/local/lib/python3.10/dist-packages (from notebook<8,>=7.0.0->recommenders) (0.2.4)\n",
            "Requirement already satisfied: tornado>=6.2.0 in /usr/local/lib/python3.10/dist-packages (from notebook<8,>=7.0.0->recommenders) (6.3.3)\n",
            "Requirement already satisfied: llvmlite<0.44,>=0.43.0dev0 in /usr/local/lib/python3.10/dist-packages (from numba<1,>=0.57.0->recommenders) (0.43.0)\n",
            "Requirement already satisfied: multimethod<=1.10.0 in /usr/local/lib/python3.10/dist-packages (from pandera>=0.15.0->pandera[strategies]>=0.15.0; python_version >= \"3.9\"->recommenders) (1.10)\n",
            "Requirement already satisfied: pydantic in /usr/local/lib/python3.10/dist-packages (from pandera>=0.15.0->pandera[strategies]>=0.15.0; python_version >= \"3.9\"->recommenders) (2.9.2)\n",
            "Requirement already satisfied: typeguard in /usr/local/lib/python3.10/dist-packages (from pandera>=0.15.0->pandera[strategies]>=0.15.0; python_version >= \"3.9\"->recommenders) (4.3.0)\n",
            "Requirement already satisfied: typing-inspect>=0.6.0 in /usr/local/lib/python3.10/dist-packages (from pandera>=0.15.0->pandera[strategies]>=0.15.0; python_version >= \"3.9\"->recommenders) (0.9.0)\n",
            "Requirement already satisfied: wrapt in /usr/local/lib/python3.10/dist-packages (from pandera>=0.15.0->pandera[strategies]>=0.15.0; python_version >= \"3.9\"->recommenders) (1.16.0)\n",
            "Requirement already satisfied: hypothesis>=6.92.7 in /usr/local/lib/python3.10/dist-packages (from pandera[strategies]>=0.15.0; python_version >= \"3.9\"->recommenders) (6.115.2)\n",
            "Requirement already satisfied: threadpoolctl>=3.1.0 in /usr/local/lib/python3.10/dist-packages (from scikit-learn<2,>=1.2.0->recommenders) (3.5.0)\n",
            "Requirement already satisfied: filelock in /usr/local/lib/python3.10/dist-packages (from transformers<5,>=4.27.0->recommenders) (3.16.1)\n",
            "Requirement already satisfied: huggingface-hub<1.0,>=0.23.2 in /usr/local/lib/python3.10/dist-packages (from transformers<5,>=4.27.0->recommenders) (0.24.7)\n",
            "Requirement already satisfied: pyyaml>=5.1 in /usr/local/lib/python3.10/dist-packages (from transformers<5,>=4.27.0->recommenders) (6.0.2)\n",
            "Requirement already satisfied: safetensors>=0.4.1 in /usr/local/lib/python3.10/dist-packages (from transformers<5,>=4.27.0->recommenders) (0.4.5)\n",
            "Requirement already satisfied: tokenizers<0.20,>=0.19 in /usr/local/lib/python3.10/dist-packages (from transformers<5,>=4.27.0->recommenders) (0.19.1)\n",
            "Requirement already satisfied: Jinja2>=3.0 in /usr/local/lib/python3.10/dist-packages (from flask>=2.0.0->locust<3,>=2.12.2->recommenders) (3.1.4)\n",
            "Requirement already satisfied: itsdangerous>=2.0 in /usr/local/lib/python3.10/dist-packages (from flask>=2.0.0->locust<3,>=2.12.2->recommenders) (2.2.0)\n",
            "Requirement already satisfied: zope.event in /usr/local/lib/python3.10/dist-packages (from gevent>=22.10.2->locust<3,>=2.12.2->recommenders) (5.0)\n",
            "Requirement already satisfied: zope.interface in /usr/local/lib/python3.10/dist-packages (from gevent>=22.10.2->locust<3,>=2.12.2->recommenders) (7.1.0)\n",
            "Requirement already satisfied: greenlet>=3.1.1 in /usr/local/lib/python3.10/dist-packages (from gevent>=22.10.2->locust<3,>=2.12.2->recommenders) (3.1.1)\n",
            "Requirement already satisfied: certifi in /usr/local/lib/python3.10/dist-packages (from geventhttpclient>=2.3.1->locust<3,>=2.12.2->recommenders) (2024.8.30)\n",
            "Requirement already satisfied: brotli in /usr/local/lib/python3.10/dist-packages (from geventhttpclient>=2.3.1->locust<3,>=2.12.2->recommenders) (1.1.0)\n",
            "Requirement already satisfied: urllib3 in /usr/local/lib/python3.10/dist-packages (from geventhttpclient>=2.3.1->locust<3,>=2.12.2->recommenders) (2.2.3)\n",
            "Requirement already satisfied: fsspec>=2023.5.0 in /usr/local/lib/python3.10/dist-packages (from huggingface-hub<1.0,>=0.23.2->transformers<5,>=4.27.0->recommenders) (2024.6.1)\n",
            "Requirement already satisfied: attrs>=22.2.0 in /usr/local/lib/python3.10/dist-packages (from hypothesis>=6.92.7->pandera[strategies]>=0.15.0; python_version >= \"3.9\"->recommenders) (24.2.0)\n",
            "Requirement already satisfied: sortedcontainers<3.0.0,>=2.1.0 in /usr/local/lib/python3.10/dist-packages (from hypothesis>=6.92.7->pandera[strategies]>=0.15.0; python_version >= \"3.9\"->recommenders) (2.4.0)\n",
            "Requirement already satisfied: exceptiongroup>=1.0.0 in /usr/local/lib/python3.10/dist-packages (from hypothesis>=6.92.7->pandera[strategies]>=0.15.0; python_version >= \"3.9\"->recommenders) (1.2.2)\n",
            "Requirement already satisfied: anyio>=3.1.0 in /usr/local/lib/python3.10/dist-packages (from jupyter-server<3,>=2.4.0->notebook<8,>=7.0.0->recommenders) (3.7.1)\n",
            "Requirement already satisfied: argon2-cffi>=21.1 in /usr/local/lib/python3.10/dist-packages (from jupyter-server<3,>=2.4.0->notebook<8,>=7.0.0->recommenders) (23.1.0)\n",
            "Requirement already satisfied: jupyter-client>=7.4.4 in /usr/local/lib/python3.10/dist-packages (from jupyter-server<3,>=2.4.0->notebook<8,>=7.0.0->recommenders) (8.6.3)\n",
            "Requirement already satisfied: jupyter-core!=5.0.*,>=4.12 in /usr/local/lib/python3.10/dist-packages (from jupyter-server<3,>=2.4.0->notebook<8,>=7.0.0->recommenders) (5.7.2)\n",
            "Requirement already satisfied: jupyter-events>=0.9.0 in /usr/local/lib/python3.10/dist-packages (from jupyter-server<3,>=2.4.0->notebook<8,>=7.0.0->recommenders) (0.10.0)\n",
            "Requirement already satisfied: jupyter-server-terminals>=0.4.4 in /usr/local/lib/python3.10/dist-packages (from jupyter-server<3,>=2.4.0->notebook<8,>=7.0.0->recommenders) (0.5.3)\n",
            "Requirement already satisfied: nbconvert>=6.4.4 in /usr/local/lib/python3.10/dist-packages (from jupyter-server<3,>=2.4.0->notebook<8,>=7.0.0->recommenders) (6.5.4)\n",
            "Requirement already satisfied: nbformat>=5.3.0 in /usr/local/lib/python3.10/dist-packages (from jupyter-server<3,>=2.4.0->notebook<8,>=7.0.0->recommenders) (5.10.4)\n",
            "Requirement already satisfied: overrides>=5.0 in /usr/local/lib/python3.10/dist-packages (from jupyter-server<3,>=2.4.0->notebook<8,>=7.0.0->recommenders) (7.7.0)\n",
            "Requirement already satisfied: prometheus-client>=0.9 in /usr/local/lib/python3.10/dist-packages (from jupyter-server<3,>=2.4.0->notebook<8,>=7.0.0->recommenders) (0.21.0)\n",
            "Requirement already satisfied: send2trash>=1.8.2 in /usr/local/lib/python3.10/dist-packages (from jupyter-server<3,>=2.4.0->notebook<8,>=7.0.0->recommenders) (1.8.3)\n",
            "Requirement already satisfied: terminado>=0.8.3 in /usr/local/lib/python3.10/dist-packages (from jupyter-server<3,>=2.4.0->notebook<8,>=7.0.0->recommenders) (0.18.1)\n",
            "Requirement already satisfied: traitlets>=5.6.0 in /usr/local/lib/python3.10/dist-packages (from jupyter-server<3,>=2.4.0->notebook<8,>=7.0.0->recommenders) (5.7.1)\n",
            "Requirement already satisfied: websocket-client>=1.7 in /usr/local/lib/python3.10/dist-packages (from jupyter-server<3,>=2.4.0->notebook<8,>=7.0.0->recommenders) (1.8.0)\n",
            "Requirement already satisfied: async-lru>=1.0.0 in /usr/local/lib/python3.10/dist-packages (from jupyterlab<4.3,>=4.2.0->notebook<8,>=7.0.0->recommenders) (2.0.4)\n",
            "Requirement already satisfied: httpx>=0.25.0 in /usr/local/lib/python3.10/dist-packages (from jupyterlab<4.3,>=4.2.0->notebook<8,>=7.0.0->recommenders) (0.27.2)\n",
            "Requirement already satisfied: ipykernel>=6.5.0 in /usr/local/lib/python3.10/dist-packages (from jupyterlab<4.3,>=4.2.0->notebook<8,>=7.0.0->recommenders) (6.29.5)\n",
            "Requirement already satisfied: jupyter-lsp>=2.0.0 in /usr/local/lib/python3.10/dist-packages (from jupyterlab<4.3,>=4.2.0->notebook<8,>=7.0.0->recommenders) (2.2.5)\n",
            "Requirement already satisfied: setuptools>=40.1.0 in /usr/local/lib/python3.10/dist-packages (from jupyterlab<4.3,>=4.2.0->notebook<8,>=7.0.0->recommenders) (71.0.4)\n",
            "Requirement already satisfied: babel>=2.10 in /usr/local/lib/python3.10/dist-packages (from jupyterlab-server<3,>=2.27.1->notebook<8,>=7.0.0->recommenders) (2.16.0)\n",
            "Requirement already satisfied: json5>=0.9.0 in /usr/local/lib/python3.10/dist-packages (from jupyterlab-server<3,>=2.27.1->notebook<8,>=7.0.0->recommenders) (0.9.25)\n",
            "Requirement already satisfied: jsonschema>=4.18.0 in /usr/local/lib/python3.10/dist-packages (from jupyterlab-server<3,>=2.27.1->notebook<8,>=7.0.0->recommenders) (4.23.0)\n",
            "Requirement already satisfied: charset-normalizer<4,>=2 in /usr/local/lib/python3.10/dist-packages (from requests->lightfm<2,>=1.17->recommenders) (3.4.0)\n",
            "Requirement already satisfied: idna<4,>=2.5 in /usr/local/lib/python3.10/dist-packages (from requests->lightfm<2,>=1.17->recommenders) (3.10)\n",
            "Requirement already satisfied: mypy-extensions>=0.3.0 in /usr/local/lib/python3.10/dist-packages (from typing-inspect>=0.6.0->pandera>=0.15.0->pandera[strategies]>=0.15.0; python_version >= \"3.9\"->recommenders) (1.0.0)\n",
            "Requirement already satisfied: MarkupSafe>=2.1.1 in /usr/local/lib/python3.10/dist-packages (from Werkzeug>=2.0.0->locust<3,>=2.12.2->recommenders) (3.0.1)\n",
            "Requirement already satisfied: mpmath in /usr/local/lib/python3.10/dist-packages (from powerlaw->cornac<2,>=1.15.2->recommenders) (1.3.0)\n",
            "Requirement already satisfied: annotated-types>=0.6.0 in /usr/local/lib/python3.10/dist-packages (from pydantic->pandera>=0.15.0->pandera[strategies]>=0.15.0; python_version >= \"3.9\"->recommenders) (0.7.0)\n",
            "Requirement already satisfied: pydantic-core==2.23.4 in /usr/local/lib/python3.10/dist-packages (from pydantic->pandera>=0.15.0->pandera[strategies]>=0.15.0; python_version >= \"3.9\"->recommenders) (2.23.4)\n",
            "Requirement already satisfied: sniffio>=1.1 in /usr/local/lib/python3.10/dist-packages (from anyio>=3.1.0->jupyter-server<3,>=2.4.0->notebook<8,>=7.0.0->recommenders) (1.3.1)\n",
            "Requirement already satisfied: argon2-cffi-bindings in /usr/local/lib/python3.10/dist-packages (from argon2-cffi>=21.1->jupyter-server<3,>=2.4.0->notebook<8,>=7.0.0->recommenders) (21.2.0)\n",
            "Requirement already satisfied: httpcore==1.* in /usr/local/lib/python3.10/dist-packages (from httpx>=0.25.0->jupyterlab<4.3,>=4.2.0->notebook<8,>=7.0.0->recommenders) (1.0.6)\n",
            "Requirement already satisfied: h11<0.15,>=0.13 in /usr/local/lib/python3.10/dist-packages (from httpcore==1.*->httpx>=0.25.0->jupyterlab<4.3,>=4.2.0->notebook<8,>=7.0.0->recommenders) (0.14.0)\n",
            "Requirement already satisfied: comm>=0.1.1 in /usr/local/lib/python3.10/dist-packages (from ipykernel>=6.5.0->jupyterlab<4.3,>=4.2.0->notebook<8,>=7.0.0->recommenders) (0.2.2)\n",
            "Requirement already satisfied: debugpy>=1.6.5 in /usr/local/lib/python3.10/dist-packages (from ipykernel>=6.5.0->jupyterlab<4.3,>=4.2.0->notebook<8,>=7.0.0->recommenders) (1.6.6)\n",
            "Requirement already satisfied: ipython>=7.23.1 in /usr/local/lib/python3.10/dist-packages (from ipykernel>=6.5.0->jupyterlab<4.3,>=4.2.0->notebook<8,>=7.0.0->recommenders) (7.34.0)\n",
            "Requirement already satisfied: matplotlib-inline>=0.1 in /usr/local/lib/python3.10/dist-packages (from ipykernel>=6.5.0->jupyterlab<4.3,>=4.2.0->notebook<8,>=7.0.0->recommenders) (0.1.7)\n",
            "Requirement already satisfied: nest-asyncio in /usr/local/lib/python3.10/dist-packages (from ipykernel>=6.5.0->jupyterlab<4.3,>=4.2.0->notebook<8,>=7.0.0->recommenders) (1.6.0)\n",
            "Requirement already satisfied: jsonschema-specifications>=2023.03.6 in /usr/local/lib/python3.10/dist-packages (from jsonschema>=4.18.0->jupyterlab-server<3,>=2.27.1->notebook<8,>=7.0.0->recommenders) (2024.10.1)\n",
            "Requirement already satisfied: referencing>=0.28.4 in /usr/local/lib/python3.10/dist-packages (from jsonschema>=4.18.0->jupyterlab-server<3,>=2.27.1->notebook<8,>=7.0.0->recommenders) (0.35.1)\n",
            "Requirement already satisfied: rpds-py>=0.7.1 in /usr/local/lib/python3.10/dist-packages (from jsonschema>=4.18.0->jupyterlab-server<3,>=2.27.1->notebook<8,>=7.0.0->recommenders) (0.20.0)\n",
            "Requirement already satisfied: platformdirs>=2.5 in /usr/local/lib/python3.10/dist-packages (from jupyter-core!=5.0.*,>=4.12->jupyter-server<3,>=2.4.0->notebook<8,>=7.0.0->recommenders) (4.3.6)\n",
            "Requirement already satisfied: python-json-logger>=2.0.4 in /usr/local/lib/python3.10/dist-packages (from jupyter-events>=0.9.0->jupyter-server<3,>=2.4.0->notebook<8,>=7.0.0->recommenders) (2.0.7)\n",
            "Requirement already satisfied: rfc3339-validator in /usr/local/lib/python3.10/dist-packages (from jupyter-events>=0.9.0->jupyter-server<3,>=2.4.0->notebook<8,>=7.0.0->recommenders) (0.1.4)\n",
            "Requirement already satisfied: rfc3986-validator>=0.1.1 in /usr/local/lib/python3.10/dist-packages (from jupyter-events>=0.9.0->jupyter-server<3,>=2.4.0->notebook<8,>=7.0.0->recommenders) (0.1.1)\n",
            "Requirement already satisfied: lxml in /usr/local/lib/python3.10/dist-packages (from nbconvert>=6.4.4->jupyter-server<3,>=2.4.0->notebook<8,>=7.0.0->recommenders) (4.9.4)\n",
            "Requirement already satisfied: beautifulsoup4 in /usr/local/lib/python3.10/dist-packages (from nbconvert>=6.4.4->jupyter-server<3,>=2.4.0->notebook<8,>=7.0.0->recommenders) (4.12.3)\n",
            "Requirement already satisfied: bleach in /usr/local/lib/python3.10/dist-packages (from nbconvert>=6.4.4->jupyter-server<3,>=2.4.0->notebook<8,>=7.0.0->recommenders) (6.1.0)\n",
            "Requirement already satisfied: defusedxml in /usr/local/lib/python3.10/dist-packages (from nbconvert>=6.4.4->jupyter-server<3,>=2.4.0->notebook<8,>=7.0.0->recommenders) (0.7.1)\n",
            "Requirement already satisfied: entrypoints>=0.2.2 in /usr/local/lib/python3.10/dist-packages (from nbconvert>=6.4.4->jupyter-server<3,>=2.4.0->notebook<8,>=7.0.0->recommenders) (0.4)\n",
            "Requirement already satisfied: jupyterlab-pygments in /usr/local/lib/python3.10/dist-packages (from nbconvert>=6.4.4->jupyter-server<3,>=2.4.0->notebook<8,>=7.0.0->recommenders) (0.3.0)\n",
            "Requirement already satisfied: mistune<2,>=0.8.1 in /usr/local/lib/python3.10/dist-packages (from nbconvert>=6.4.4->jupyter-server<3,>=2.4.0->notebook<8,>=7.0.0->recommenders) (0.8.4)\n",
            "Requirement already satisfied: nbclient>=0.5.0 in /usr/local/lib/python3.10/dist-packages (from nbconvert>=6.4.4->jupyter-server<3,>=2.4.0->notebook<8,>=7.0.0->recommenders) (0.10.0)\n",
            "Requirement already satisfied: pandocfilters>=1.4.1 in /usr/local/lib/python3.10/dist-packages (from nbconvert>=6.4.4->jupyter-server<3,>=2.4.0->notebook<8,>=7.0.0->recommenders) (1.5.1)\n",
            "Requirement already satisfied: pygments>=2.4.1 in /usr/local/lib/python3.10/dist-packages (from nbconvert>=6.4.4->jupyter-server<3,>=2.4.0->notebook<8,>=7.0.0->recommenders) (2.18.0)\n",
            "Requirement already satisfied: tinycss2 in /usr/local/lib/python3.10/dist-packages (from nbconvert>=6.4.4->jupyter-server<3,>=2.4.0->notebook<8,>=7.0.0->recommenders) (1.3.0)\n",
            "Requirement already satisfied: fastjsonschema>=2.15 in /usr/local/lib/python3.10/dist-packages (from nbformat>=5.3.0->jupyter-server<3,>=2.4.0->notebook<8,>=7.0.0->recommenders) (2.20.0)\n",
            "Requirement already satisfied: ptyprocess in /usr/local/lib/python3.10/dist-packages (from terminado>=0.8.3->jupyter-server<3,>=2.4.0->notebook<8,>=7.0.0->recommenders) (0.7.0)\n",
            "Requirement already satisfied: jedi>=0.16 in /usr/local/lib/python3.10/dist-packages (from ipython>=7.23.1->ipykernel>=6.5.0->jupyterlab<4.3,>=4.2.0->notebook<8,>=7.0.0->recommenders) (0.19.1)\n",
            "Requirement already satisfied: decorator in /usr/local/lib/python3.10/dist-packages (from ipython>=7.23.1->ipykernel>=6.5.0->jupyterlab<4.3,>=4.2.0->notebook<8,>=7.0.0->recommenders) (4.4.2)\n",
            "Requirement already satisfied: pickleshare in /usr/local/lib/python3.10/dist-packages (from ipython>=7.23.1->ipykernel>=6.5.0->jupyterlab<4.3,>=4.2.0->notebook<8,>=7.0.0->recommenders) (0.7.5)\n",
            "Requirement already satisfied: prompt-toolkit!=3.0.0,!=3.0.1,<3.1.0,>=2.0.0 in /usr/local/lib/python3.10/dist-packages (from ipython>=7.23.1->ipykernel>=6.5.0->jupyterlab<4.3,>=4.2.0->notebook<8,>=7.0.0->recommenders) (3.0.48)\n",
            "Requirement already satisfied: backcall in /usr/local/lib/python3.10/dist-packages (from ipython>=7.23.1->ipykernel>=6.5.0->jupyterlab<4.3,>=4.2.0->notebook<8,>=7.0.0->recommenders) (0.2.0)\n",
            "Requirement already satisfied: pexpect>4.3 in /usr/local/lib/python3.10/dist-packages (from ipython>=7.23.1->ipykernel>=6.5.0->jupyterlab<4.3,>=4.2.0->notebook<8,>=7.0.0->recommenders) (4.9.0)\n",
            "Requirement already satisfied: fqdn in /usr/local/lib/python3.10/dist-packages (from jsonschema[format-nongpl]>=4.18.0->jupyter-events>=0.9.0->jupyter-server<3,>=2.4.0->notebook<8,>=7.0.0->recommenders) (1.5.1)\n",
            "Requirement already satisfied: isoduration in /usr/local/lib/python3.10/dist-packages (from jsonschema[format-nongpl]>=4.18.0->jupyter-events>=0.9.0->jupyter-server<3,>=2.4.0->notebook<8,>=7.0.0->recommenders) (20.11.0)\n",
            "Requirement already satisfied: jsonpointer>1.13 in /usr/local/lib/python3.10/dist-packages (from jsonschema[format-nongpl]>=4.18.0->jupyter-events>=0.9.0->jupyter-server<3,>=2.4.0->notebook<8,>=7.0.0->recommenders) (3.0.0)\n",
            "Requirement already satisfied: uri-template in /usr/local/lib/python3.10/dist-packages (from jsonschema[format-nongpl]>=4.18.0->jupyter-events>=0.9.0->jupyter-server<3,>=2.4.0->notebook<8,>=7.0.0->recommenders) (1.3.0)\n",
            "Requirement already satisfied: webcolors>=24.6.0 in /usr/local/lib/python3.10/dist-packages (from jsonschema[format-nongpl]>=4.18.0->jupyter-events>=0.9.0->jupyter-server<3,>=2.4.0->notebook<8,>=7.0.0->recommenders) (24.8.0)\n",
            "Requirement already satisfied: cffi>=1.0.1 in /usr/local/lib/python3.10/dist-packages (from argon2-cffi-bindings->argon2-cffi>=21.1->jupyter-server<3,>=2.4.0->notebook<8,>=7.0.0->recommenders) (1.17.1)\n",
            "Requirement already satisfied: soupsieve>1.2 in /usr/local/lib/python3.10/dist-packages (from beautifulsoup4->nbconvert>=6.4.4->jupyter-server<3,>=2.4.0->notebook<8,>=7.0.0->recommenders) (2.6)\n",
            "Requirement already satisfied: webencodings in /usr/local/lib/python3.10/dist-packages (from bleach->nbconvert>=6.4.4->jupyter-server<3,>=2.4.0->notebook<8,>=7.0.0->recommenders) (0.5.1)\n",
            "Requirement already satisfied: pycparser in /usr/local/lib/python3.10/dist-packages (from cffi>=1.0.1->argon2-cffi-bindings->argon2-cffi>=21.1->jupyter-server<3,>=2.4.0->notebook<8,>=7.0.0->recommenders) (2.22)\n",
            "Requirement already satisfied: parso<0.9.0,>=0.8.3 in /usr/local/lib/python3.10/dist-packages (from jedi>=0.16->ipython>=7.23.1->ipykernel>=6.5.0->jupyterlab<4.3,>=4.2.0->notebook<8,>=7.0.0->recommenders) (0.8.4)\n",
            "Requirement already satisfied: wcwidth in /usr/local/lib/python3.10/dist-packages (from prompt-toolkit!=3.0.0,!=3.0.1,<3.1.0,>=2.0.0->ipython>=7.23.1->ipykernel>=6.5.0->jupyterlab<4.3,>=4.2.0->notebook<8,>=7.0.0->recommenders) (0.2.13)\n",
            "Requirement already satisfied: arrow>=0.15.0 in /usr/local/lib/python3.10/dist-packages (from isoduration->jsonschema[format-nongpl]>=4.18.0->jupyter-events>=0.9.0->jupyter-server<3,>=2.4.0->notebook<8,>=7.0.0->recommenders) (1.3.0)\n",
            "Requirement already satisfied: types-python-dateutil>=2.8.10 in /usr/local/lib/python3.10/dist-packages (from arrow>=0.15.0->isoduration->jsonschema[format-nongpl]>=4.18.0->jupyter-events>=0.9.0->jupyter-server<3,>=2.4.0->notebook<8,>=7.0.0->recommenders) (2.9.0.20241003)\n"
          ]
        }
      ]
    },
    {
      "cell_type": "code",
      "source": [
        "import sys\n",
        "from matplotlib import pyplot as plt\n",
        "import numpy as np\n",
        "import pandas as pd\n",
        "import seaborn as sns\n",
        "\n",
        "from pyspark.sql import SparkSession\n",
        "from pyspark.ml.recommendation import ALS\n",
        "from pyspark.sql.functions import col\n",
        "from pyspark.ml.tuning import CrossValidator\n",
        "from pyspark.sql.types import StructType, StructField, FloatType, IntegerType, LongType\n",
        "\n",
        "from recommenders.utils.spark_utils import start_or_get_spark\n",
        "from recommenders.evaluation.spark_evaluation import SparkRankingEvaluation, SparkRatingEvaluation\n",
        "from recommenders.tuning.parameter_sweep import generate_param_grid\n",
        "from recommenders.datasets.spark_splitters import spark_random_split\n",
        "\n",
        "from surprise import Dataset\n",
        "\n",
        "\n",
        "import warnings\n",
        "warnings.simplefilter(action='ignore', category=FutureWarning)"
      ],
      "metadata": {
        "id": "2d9xk4x3Kc9f"
      },
      "execution_count": 15,
      "outputs": []
    },
    {
      "cell_type": "code",
      "source": [],
      "metadata": {
        "id": "i1aAmvxAS2mf"
      },
      "execution_count": 15,
      "outputs": []
    },
    {
      "cell_type": "code",
      "source": [],
      "metadata": {
        "id": "TWc8MZhNS71O"
      },
      "execution_count": 15,
      "outputs": []
    },
    {
      "cell_type": "markdown",
      "source": [
        "**start Spark Session  and Load Data**"
      ],
      "metadata": {
        "id": "717IV05zTR4G"
      }
    },
    {
      "cell_type": "code",
      "source": [
        "spark = start_or_get_spark(\"ALS Deep Dive\", memory=\"16g\")\n",
        "spark.conf.set(\"spark.sql.analyzer.failAmbiguousSelfJoin\", \"false\")"
      ],
      "metadata": {
        "colab": {
          "base_uri": "https://localhost:8080/"
        },
        "id": "uRwIbaHnTOBR",
        "outputId": "da3182b3-4631-4322-96e8-be55b648267f"
      },
      "execution_count": 16,
      "outputs": [
        {
          "output_type": "stream",
          "name": "stderr",
          "text": [
            "24/10/16 12:39:33 WARN SparkSession: Using an existing Spark session; only runtime SQL configurations will take effect.\n"
          ]
        }
      ]
    },
    {
      "cell_type": "code",
      "source": [],
      "metadata": {
        "id": "zZkXxqrdTOWZ"
      },
      "execution_count": 16,
      "outputs": []
    },
    {
      "cell_type": "code",
      "source": [
        "# Load Dataset using Scikit-Surprise\n",
        "data = Dataset.load_builtin('ml-1m')\n"
      ],
      "metadata": {
        "id": "421umNjOUCLm"
      },
      "execution_count": 17,
      "outputs": []
    },
    {
      "cell_type": "code",
      "source": [
        "COL_USER = \"UserId\"\n",
        "COL_ITEM = \"MovieId\"\n",
        "COL_RATING = \"Rating\"\n",
        "COL_PREDICTION = \"prediction\"\n"
      ],
      "metadata": {
        "id": "hJjcw11YVdSs"
      },
      "execution_count": 18,
      "outputs": []
    },
    {
      "cell_type": "code",
      "source": [
        "# Convert the surprise dataset to a Pandas DataFrame\n",
        "# Extract user-item-rating tuples\n",
        "trainset = data.build_full_trainset()\n",
        "ratings = [(trainset.to_raw_uid(uid), trainset.to_raw_iid(iid), rating)\n",
        "           for uid, iid, rating in trainset.all_ratings()]\n",
        "\n",
        "# Create a Pandas DataFrame\n",
        "ratings_df = pd.DataFrame(ratings, columns=[COL_USER, COL_ITEM, COL_RATING])\n",
        "\n",
        "ratings_df[COL_USER]=ratings_df[COL_USER].astype(int)\n",
        "ratings_df[COL_ITEM]=ratings_df[COL_ITEM].astype(int)\n",
        "ratings_df[COL_RATING]=ratings_df[COL_RATING].astype(float)\n",
        "\n",
        "#  Convert the Pandas DataFrame to a Spark DataFrame\n",
        "# Initialize SparkSession\n",
        "spark = SparkSession.builder.appName('MovieLens').getOrCreate()\n",
        "\n",
        "mySchema = StructType([ StructField(COL_USER, IntegerType()),\n",
        "                       StructField(COL_ITEM, IntegerType()),\n",
        "                       StructField(COL_RATING, FloatType())\n",
        "                       ])\n",
        "# Convert to Spark DataFrame\n",
        "spark_df = spark.createDataFrame(ratings_df, mySchema)\n",
        "\n",
        "# Show the resulting Spark DataFrame\n",
        "spark_df.show(5)"
      ],
      "metadata": {
        "colab": {
          "base_uri": "https://localhost:8080/"
        },
        "id": "uerdeO34UCyl",
        "outputId": "b1d63bca-aa8d-4093-b849-25e07268e74b"
      },
      "execution_count": 19,
      "outputs": [
        {
          "output_type": "stream",
          "name": "stderr",
          "text": [
            "24/10/16 12:39:40 WARN SparkSession: Using an existing Spark session; only runtime SQL configurations will take effect.\n",
            "24/10/16 12:39:56 WARN TaskSetManager: Stage 311 contains a task of very large size (8248 KiB). The maximum recommended task size is 1000 KiB.\n"
          ]
        },
        {
          "output_type": "stream",
          "name": "stdout",
          "text": [
            "+------+-------+------+\n",
            "|UserId|MovieId|Rating|\n",
            "+------+-------+------+\n",
            "|     1|   1193|   5.0|\n",
            "|     1|    661|   3.0|\n",
            "|     1|    914|   3.0|\n",
            "|     1|   3408|   4.0|\n",
            "|     1|   2355|   5.0|\n",
            "+------+-------+------+\n",
            "only showing top 5 rows\n",
            "\n"
          ]
        }
      ]
    },
    {
      "cell_type": "code",
      "source": [
        "print(f\"Dataset size = {spark_df.count()}\")"
      ],
      "metadata": {
        "colab": {
          "base_uri": "https://localhost:8080/"
        },
        "id": "Fzio7jMMUE2e",
        "outputId": "ff3eef10-6ef2-4f18-b8cb-7695fbd7c7ba"
      },
      "execution_count": 20,
      "outputs": [
        {
          "output_type": "stream",
          "name": "stderr",
          "text": [
            "24/10/16 12:39:56 WARN TaskSetManager: Stage 312 contains a task of very large size (8248 KiB). The maximum recommended task size is 1000 KiB.\n"
          ]
        },
        {
          "output_type": "stream",
          "name": "stdout",
          "text": [
            "Dataset size = 1000209\n"
          ]
        },
        {
          "output_type": "stream",
          "name": "stderr",
          "text": [
            "\r[Stage 312:======================================>                                      (1 + 1) / 2]\r\r                                                                                                    \r"
          ]
        }
      ]
    },
    {
      "cell_type": "code",
      "source": [
        "\n",
        "dfs_train, dfs_test = spark_random_split(spark_df, ratio=0.75, seed=42)"
      ],
      "metadata": {
        "id": "eChimgwbVcst"
      },
      "execution_count": 21,
      "outputs": []
    },
    {
      "cell_type": "code",
      "source": [
        "print(f\"dfs_train size = {dfs_train.count()}\")\n",
        "print(f\"dfs_test size = {dfs_test.count()}\")"
      ],
      "metadata": {
        "colab": {
          "base_uri": "https://localhost:8080/"
        },
        "id": "UcjdosJKZJPA",
        "outputId": "80e7e46f-8a73-4a9a-ecea-aea4ea0d2aa9"
      },
      "execution_count": 22,
      "outputs": [
        {
          "output_type": "stream",
          "name": "stderr",
          "text": [
            "24/10/16 12:39:59 WARN TaskSetManager: Stage 315 contains a task of very large size (8248 KiB). The maximum recommended task size is 1000 KiB.\n"
          ]
        },
        {
          "output_type": "stream",
          "name": "stdout",
          "text": [
            "dfs_train size = 750012\n"
          ]
        },
        {
          "output_type": "stream",
          "name": "stderr",
          "text": [
            "24/10/16 12:40:03 WARN TaskSetManager: Stage 318 contains a task of very large size (8248 KiB). The maximum recommended task size is 1000 KiB.\n"
          ]
        },
        {
          "output_type": "stream",
          "name": "stdout",
          "text": [
            "dfs_test size = 250197\n"
          ]
        },
        {
          "output_type": "stream",
          "name": "stderr",
          "text": [
            "\r                                                                                                    \r"
          ]
        }
      ]
    },
    {
      "cell_type": "code",
      "source": [
        "## Train ALS model :"
      ],
      "metadata": {
        "id": "divUPYrGZQ3l"
      },
      "execution_count": 23,
      "outputs": []
    },
    {
      "cell_type": "code",
      "source": [
        "# Config :\n",
        "RANK = 10\n",
        "MAX_ITER = 15\n",
        "REG_PARAM = 0.05\n",
        "K=10"
      ],
      "metadata": {
        "id": "2Ey7IB3IZtWv"
      },
      "execution_count": 24,
      "outputs": []
    },
    {
      "cell_type": "code",
      "source": [
        "als = ALS(\n",
        "    maxIter=MAX_ITER,\n",
        "    rank=RANK,\n",
        "    regParam=REG_PARAM,\n",
        "    userCol=COL_USER,\n",
        "    itemCol=COL_ITEM,\n",
        "    ratingCol=COL_RATING,\n",
        "    coldStartStrategy=\"drop\"\n",
        ")\n",
        "\n",
        "model = als.fit(dfs_train)"
      ],
      "metadata": {
        "colab": {
          "base_uri": "https://localhost:8080/"
        },
        "id": "_c2qzupiZpTS",
        "outputId": "65bda0e6-03d6-48c7-aae2-918ce078bb50"
      },
      "execution_count": 25,
      "outputs": [
        {
          "output_type": "stream",
          "name": "stderr",
          "text": [
            "24/10/16 12:40:06 WARN TaskSetManager: Stage 321 contains a task of very large size (8248 KiB). The maximum recommended task size is 1000 KiB.\n",
            "24/10/16 12:40:07 WARN TaskSetManager: Stage 322 contains a task of very large size (8248 KiB). The maximum recommended task size is 1000 KiB.\n"
          ]
        }
      ]
    },
    {
      "cell_type": "markdown",
      "source": [
        "## Evaluation :"
      ],
      "metadata": {
        "id": "RejNMQ8CeZcq"
      }
    },
    {
      "cell_type": "code",
      "source": [
        "dfs_pred = model.transform(dfs_test).drop(COL_RATING)\n",
        "\n",
        "evaluations = SparkRatingEvaluation(\n",
        "    dfs_test,\n",
        "    dfs_pred,\n",
        "    col_user=COL_USER,\n",
        "    col_item=COL_ITEM,\n",
        "    col_rating=COL_RATING,\n",
        "    col_prediction=COL_PREDICTION\n",
        ")\n",
        "\n",
        "print(\n",
        "    \"RMSE score = {}\".format(evaluations.rmse()),\n",
        "    \"MAE score = {}\".format(evaluations.mae()),\n",
        "    \"R2 score = {}\".format(evaluations.rsquared()),\n",
        "    \"Explained variance score = {}\".format(evaluations.exp_var()),\n",
        "    sep=\"\\n\"\n",
        ")"
      ],
      "metadata": {
        "colab": {
          "base_uri": "https://localhost:8080/"
        },
        "id": "ZkH2v3BHZxr9",
        "outputId": "7bca8f87-2426-4637-9a73-94922bd39c17"
      },
      "execution_count": 26,
      "outputs": [
        {
          "output_type": "stream",
          "name": "stderr",
          "text": [
            "24/10/16 12:40:37 WARN TaskSetManager: Stage 395 contains a task of very large size (8248 KiB). The maximum recommended task size is 1000 KiB.\n",
            "24/10/16 12:40:39 WARN TaskSetManager: Stage 398 contains a task of very large size (8248 KiB). The maximum recommended task size is 1000 KiB.\n",
            "24/10/16 12:40:44 WARN TaskSetManager: Stage 476 contains a task of very large size (8248 KiB). The maximum recommended task size is 1000 KiB.\n",
            "24/10/16 12:40:46 WARN TaskSetManager: Stage 477 contains a task of very large size (8248 KiB). The maximum recommended task size is 1000 KiB.\n",
            "24/10/16 12:40:54 WARN TaskSetManager: Stage 524 contains a task of very large size (8248 KiB). The maximum recommended task size is 1000 KiB.\n",
            "24/10/16 12:40:56 WARN TaskSetManager: Stage 525 contains a task of very large size (8248 KiB). The maximum recommended task size is 1000 KiB.\n",
            "24/10/16 12:41:02 WARN TaskSetManager: Stage 605 contains a task of very large size (8248 KiB). The maximum recommended task size is 1000 KiB.\n",
            "24/10/16 12:41:04 WARN TaskSetManager: Stage 606 contains a task of very large size (8248 KiB). The maximum recommended task size is 1000 KiB.\n"
          ]
        },
        {
          "output_type": "stream",
          "name": "stdout",
          "text": [
            "RMSE score = 0.8573187749327482\n",
            "MAE score = 0.6768056195948771\n",
            "R2 score = 0.4097263034043809\n",
            "Explained variance score = 0.4162704505875712\n"
          ]
        }
      ]
    },
    {
      "cell_type": "code",
      "source": [
        "# Get the cross join of all user-item pairs and score them.\n",
        "users = dfs_train.select(COL_USER).distinct()\n",
        "items = dfs_train.select(COL_ITEM).distinct()\n",
        "user_item = users.crossJoin(items)\n",
        "dfs_pred = model.transform(user_item)\n",
        "\n",
        "# Remove seen items.\n",
        "dfs_pred_exclude_train = dfs_pred.alias(\"pred\").join(\n",
        "    dfs_train.alias(\"train\"),\n",
        "    (dfs_pred[COL_USER] == dfs_train[COL_USER]) & (dfs_pred[COL_ITEM] == dfs_train[COL_ITEM]),\n",
        "    how='outer'\n",
        ")\n",
        "\n",
        "dfs_pred_final = dfs_pred_exclude_train.filter(dfs_pred_exclude_train[\"train.Rating\"].isNull()) \\\n",
        "    .select('pred.' + COL_USER, 'pred.' + COL_ITEM, 'pred.' + \"prediction\")\n",
        "\n",
        "dfs_pred_final.show()"
      ],
      "metadata": {
        "colab": {
          "base_uri": "https://localhost:8080/"
        },
        "id": "wd_x8QZted4f",
        "outputId": "45191264-7ff9-44be-ca42-b94aa28a5b3f"
      },
      "execution_count": 27,
      "outputs": [
        {
          "output_type": "stream",
          "name": "stderr",
          "text": [
            "24/10/16 12:41:08 WARN Column: Constructing trivially true equals predicate, 'UserId#487 = UserId#487'. Perhaps you need to use aliases.\n",
            "24/10/16 12:41:08 WARN TaskSetManager: Stage 654 contains a task of very large size (8248 KiB). The maximum recommended task size is 1000 KiB.\n",
            "24/10/16 12:41:10 WARN TaskSetManager: Stage 655 contains a task of very large size (8248 KiB). The maximum recommended task size is 1000 KiB.\n",
            "24/10/16 12:41:15 WARN TaskSetManager: Stage 691 contains a task of very large size (8248 KiB). The maximum recommended task size is 1000 KiB.\n"
          ]
        },
        {
          "output_type": "stream",
          "name": "stdout",
          "text": [
            "+------+-------+----------+\n",
            "|UserId|MovieId|prediction|\n",
            "+------+-------+----------+\n",
            "|     1|      2|  3.343566|\n",
            "|     1|      7| 3.0924027|\n",
            "|     1|      9| 2.4982805|\n",
            "|     1|     20| 2.9996638|\n",
            "|     1|     22|  3.617993|\n",
            "|     1|     25| 3.6922932|\n",
            "|     1|     32| 3.3839135|\n",
            "|     1|     37| 3.3810217|\n",
            "|     1|     43| 3.4666464|\n",
            "|     1|     46| 3.0390167|\n",
            "|     1|     49|  4.303311|\n",
            "|     1|     59| 3.4883716|\n",
            "|     1|     63|  2.167007|\n",
            "|     1|     73|  4.101369|\n",
            "|     1|     76| 3.0420277|\n",
            "|     1|     81| 3.0067823|\n",
            "|     1|     86| 3.2966776|\n",
            "|     1|     93| 2.1452167|\n",
            "|     1|     95| 2.8076677|\n",
            "|     1|     96| 2.7702744|\n",
            "+------+-------+----------+\n",
            "only showing top 20 rows\n",
            "\n"
          ]
        },
        {
          "output_type": "stream",
          "name": "stderr",
          "text": [
            "\r                                                                                                    \r"
          ]
        }
      ]
    },
    {
      "cell_type": "code",
      "source": [
        "\n",
        "evaluations = SparkRankingEvaluation(\n",
        "    dfs_test,\n",
        "    dfs_pred_final,\n",
        "    col_user=COL_USER,\n",
        "    col_item=COL_ITEM,\n",
        "    col_rating=COL_RATING,\n",
        "    col_prediction=COL_PREDICTION,\n",
        "    k=K\n",
        ")\n",
        "\n",
        "print(\n",
        "    \"Precision@k = {}\".format(evaluations.precision_at_k()),\n",
        "    \"Recall@k = {}\".format(evaluations.recall_at_k()),\n",
        "    \"NDCG@k = {}\".format(evaluations.ndcg_at_k()),\n",
        "    \"Mean average precision = {}\".format(evaluations.map_at_k()),\n",
        "    sep=\"\\n\"\n",
        ")"
      ],
      "metadata": {
        "colab": {
          "base_uri": "https://localhost:8080/"
        },
        "id": "gsAd4YsGeWbF",
        "outputId": "03f778f7-ed4c-4018-fb37-fcc3e8f2bed7"
      },
      "execution_count": 28,
      "outputs": [
        {
          "output_type": "stream",
          "name": "stderr",
          "text": [
            "24/10/16 12:42:09 WARN TaskSetManager: Stage 705 contains a task of very large size (8248 KiB). The maximum recommended task size is 1000 KiB.\n",
            "24/10/16 12:42:11 WARN TaskSetManager: Stage 706 contains a task of very large size (8248 KiB). The maximum recommended task size is 1000 KiB.\n",
            "24/10/16 12:42:14 WARN TaskSetManager: Stage 742 contains a task of very large size (8248 KiB). The maximum recommended task size is 1000 KiB.\n",
            "24/10/16 12:42:16 WARN TaskSetManager: Stage 743 contains a task of very large size (8248 KiB). The maximum recommended task size is 1000 KiB.\n"
          ]
        },
        {
          "output_type": "stream",
          "name": "stdout",
          "text": [
            "Precision@k = 0.0384500745156483\n",
            "Recall@k = 0.011021098835482322\n",
            "NDCG@k = 0.030581677930498773\n",
            "Mean average precision = 0.009056201562273191\n"
          ]
        },
        {
          "output_type": "stream",
          "name": "stderr",
          "text": [
            "\r[Stage 783:======================================>                                      (1 + 1) / 2]\r\r                                                                                                    \r"
          ]
        }
      ]
    },
    {
      "cell_type": "code",
      "source": [],
      "metadata": {
        "id": "ffcPCI-JfAjz"
      },
      "execution_count": 28,
      "outputs": []
    },
    {
      "cell_type": "markdown",
      "source": [
        "### find Best paramaetrs for the models :"
      ],
      "metadata": {
        "id": "0P8FsOiAh63D"
      }
    },
    {
      "cell_type": "code",
      "source": [
        "print(f\"Defaults params:\\n  {als.getRank()=}\\n  {als.getRegParam()=}\\n  {als.getMaxIter()=}\")"
      ],
      "metadata": {
        "colab": {
          "base_uri": "https://localhost:8080/"
        },
        "id": "MsARX__VgYvt",
        "outputId": "1ec206b8-2b56-4728-84ff-e468b2bbfd70"
      },
      "execution_count": 29,
      "outputs": [
        {
          "output_type": "stream",
          "name": "stdout",
          "text": [
            "Defaults params:\n",
            "  als.getRank()=10\n",
            "  als.getRegParam()=0.05\n",
            "  als.getMaxIter()=15\n"
          ]
        }
      ]
    },
    {
      "cell_type": "code",
      "source": [
        "\n",
        "param_dict = {\n",
        "    \"rank\": [10, 15, 20],\n",
        "    \"regParam\": [0.001, 0.1, 1.0],\n",
        "    \"maxIter\" : [10, 15, 20]\n",
        "}\n",
        "param_grid = generate_param_grid(param_dict)\n",
        "param_grid"
      ],
      "metadata": {
        "colab": {
          "base_uri": "https://localhost:8080/"
        },
        "id": "NLXlZZ4Ph4q5",
        "outputId": "dcd0bd7b-5187-4fa1-ab79-59b7efc618f7"
      },
      "execution_count": 30,
      "outputs": [
        {
          "output_type": "execute_result",
          "data": {
            "text/plain": [
              "[{'maxIter': 10, 'rank': 10, 'regParam': 0.001},\n",
              " {'maxIter': 10, 'rank': 10, 'regParam': 0.1},\n",
              " {'maxIter': 10, 'rank': 10, 'regParam': 1.0},\n",
              " {'maxIter': 10, 'rank': 15, 'regParam': 0.001},\n",
              " {'maxIter': 10, 'rank': 15, 'regParam': 0.1},\n",
              " {'maxIter': 10, 'rank': 15, 'regParam': 1.0},\n",
              " {'maxIter': 10, 'rank': 20, 'regParam': 0.001},\n",
              " {'maxIter': 10, 'rank': 20, 'regParam': 0.1},\n",
              " {'maxIter': 10, 'rank': 20, 'regParam': 1.0},\n",
              " {'maxIter': 15, 'rank': 10, 'regParam': 0.001},\n",
              " {'maxIter': 15, 'rank': 10, 'regParam': 0.1},\n",
              " {'maxIter': 15, 'rank': 10, 'regParam': 1.0},\n",
              " {'maxIter': 15, 'rank': 15, 'regParam': 0.001},\n",
              " {'maxIter': 15, 'rank': 15, 'regParam': 0.1},\n",
              " {'maxIter': 15, 'rank': 15, 'regParam': 1.0},\n",
              " {'maxIter': 15, 'rank': 20, 'regParam': 0.001},\n",
              " {'maxIter': 15, 'rank': 20, 'regParam': 0.1},\n",
              " {'maxIter': 15, 'rank': 20, 'regParam': 1.0},\n",
              " {'maxIter': 20, 'rank': 10, 'regParam': 0.001},\n",
              " {'maxIter': 20, 'rank': 10, 'regParam': 0.1},\n",
              " {'maxIter': 20, 'rank': 10, 'regParam': 1.0},\n",
              " {'maxIter': 20, 'rank': 15, 'regParam': 0.001},\n",
              " {'maxIter': 20, 'rank': 15, 'regParam': 0.1},\n",
              " {'maxIter': 20, 'rank': 15, 'regParam': 1.0},\n",
              " {'maxIter': 20, 'rank': 20, 'regParam': 0.001},\n",
              " {'maxIter': 20, 'rank': 20, 'regParam': 0.1},\n",
              " {'maxIter': 20, 'rank': 20, 'regParam': 1.0}]"
            ]
          },
          "metadata": {},
          "execution_count": 30
        }
      ]
    },
    {
      "cell_type": "code",
      "source": [],
      "metadata": {
        "id": "bvpk5E0LibwR"
      },
      "execution_count": 30,
      "outputs": []
    },
    {
      "cell_type": "markdown",
      "source": [
        "### Trainging With al the Combinaions :"
      ],
      "metadata": {
        "id": "GSFqh-lzii64"
      }
    },
    {
      "cell_type": "code",
      "source": [
        "rmse_score = []\n",
        "\n",
        "for g in param_grid:\n",
        "    als = ALS(\n",
        "        userCol=COL_USER,\n",
        "        itemCol=COL_ITEM,\n",
        "        ratingCol=COL_RATING,\n",
        "        coldStartStrategy=\"drop\",\n",
        "        **g\n",
        "    )\n",
        "\n",
        "    model = als.fit(dfs_train)\n",
        "\n",
        "    dfs_pred = model.transform(dfs_test).drop(COL_RATING)\n",
        "\n",
        "    evaluations = SparkRatingEvaluation(\n",
        "        dfs_test,\n",
        "        dfs_pred,\n",
        "        col_user=COL_USER,\n",
        "        col_item=COL_ITEM,\n",
        "        col_rating=COL_RATING,\n",
        "        col_prediction=COL_PREDICTION\n",
        "    )\n",
        "\n",
        "    rmse_score.append(evaluations.rmse())\n"
      ],
      "metadata": {
        "colab": {
          "base_uri": "https://localhost:8080/"
        },
        "id": "24WBkpBVij6Q",
        "outputId": "d2692bab-a4d4-43bb-8ac2-21976bf9420c"
      },
      "execution_count": 31,
      "outputs": [
        {
          "output_type": "stream",
          "name": "stderr",
          "text": [
            "24/10/16 12:44:10 WARN TaskSetManager: Stage 784 contains a task of very large size (8248 KiB). The maximum recommended task size is 1000 KiB.\n",
            "24/10/16 12:44:13 WARN TaskSetManager: Stage 785 contains a task of very large size (8248 KiB). The maximum recommended task size is 1000 KiB.\n",
            "24/10/16 12:44:34 WARN TaskSetManager: Stage 838 contains a task of very large size (8248 KiB). The maximum recommended task size is 1000 KiB.\n",
            "24/10/16 12:44:36 WARN TaskSetManager: Stage 841 contains a task of very large size (8248 KiB). The maximum recommended task size is 1000 KiB.\n",
            "24/10/16 12:44:42 WARN TaskSetManager: Stage 903 contains a task of very large size (8248 KiB). The maximum recommended task size is 1000 KiB.\n",
            "24/10/16 12:44:44 WARN TaskSetManager: Stage 904 contains a task of very large size (8248 KiB). The maximum recommended task size is 1000 KiB.\n",
            "24/10/16 12:44:52 WARN TaskSetManager: Stage 941 contains a task of very large size (8248 KiB). The maximum recommended task size is 1000 KiB.\n",
            "24/10/16 12:44:54 WARN TaskSetManager: Stage 942 contains a task of very large size (8248 KiB). The maximum recommended task size is 1000 KiB.\n",
            "24/10/16 12:45:13 WARN TaskSetManager: Stage 995 contains a task of very large size (8248 KiB). The maximum recommended task size is 1000 KiB.\n",
            "24/10/16 12:45:15 WARN TaskSetManager: Stage 998 contains a task of very large size (8248 KiB). The maximum recommended task size is 1000 KiB.\n",
            "24/10/16 12:45:19 WARN TaskSetManager: Stage 1056 contains a task of very large size (8248 KiB). The maximum recommended task size is 1000 KiB.\n",
            "24/10/16 12:45:21 WARN TaskSetManager: Stage 1057 contains a task of very large size (8248 KiB). The maximum recommended task size is 1000 KiB.\n",
            "24/10/16 12:45:29 WARN TaskSetManager: Stage 1094 contains a task of very large size (8248 KiB). The maximum recommended task size is 1000 KiB.\n",
            "24/10/16 12:45:30 WARN TaskSetManager: Stage 1095 contains a task of very large size (8248 KiB). The maximum recommended task size is 1000 KiB.\n",
            "24/10/16 12:45:48 WARN TaskSetManager: Stage 1148 contains a task of very large size (8248 KiB). The maximum recommended task size is 1000 KiB.\n",
            "24/10/16 12:45:52 WARN TaskSetManager: Stage 1151 contains a task of very large size (8248 KiB). The maximum recommended task size is 1000 KiB.\n",
            "24/10/16 12:45:55 WARN TaskSetManager: Stage 1209 contains a task of very large size (8248 KiB). The maximum recommended task size is 1000 KiB.\n",
            "24/10/16 12:45:57 WARN TaskSetManager: Stage 1210 contains a task of very large size (8248 KiB). The maximum recommended task size is 1000 KiB.\n",
            "24/10/16 12:46:04 WARN TaskSetManager: Stage 1247 contains a task of very large size (8248 KiB). The maximum recommended task size is 1000 KiB.\n",
            "24/10/16 12:46:06 WARN TaskSetManager: Stage 1248 contains a task of very large size (8248 KiB). The maximum recommended task size is 1000 KiB.\n",
            "24/10/16 12:46:26 WARN TaskSetManager: Stage 1301 contains a task of very large size (8248 KiB). The maximum recommended task size is 1000 KiB.\n",
            "24/10/16 12:46:28 WARN TaskSetManager: Stage 1304 contains a task of very large size (8248 KiB). The maximum recommended task size is 1000 KiB.\n",
            "24/10/16 12:46:31 WARN TaskSetManager: Stage 1362 contains a task of very large size (8248 KiB). The maximum recommended task size is 1000 KiB.\n",
            "24/10/16 12:46:34 WARN TaskSetManager: Stage 1363 contains a task of very large size (8248 KiB). The maximum recommended task size is 1000 KiB.\n",
            "24/10/16 12:46:42 WARN TaskSetManager: Stage 1400 contains a task of very large size (8248 KiB). The maximum recommended task size is 1000 KiB.\n",
            "24/10/16 12:46:43 WARN TaskSetManager: Stage 1401 contains a task of very large size (8248 KiB). The maximum recommended task size is 1000 KiB.\n",
            "24/10/16 12:47:05 WARN TaskSetManager: Stage 1454 contains a task of very large size (8248 KiB). The maximum recommended task size is 1000 KiB.\n",
            "24/10/16 12:47:07 WARN TaskSetManager: Stage 1457 contains a task of very large size (8248 KiB). The maximum recommended task size is 1000 KiB.\n",
            "24/10/16 12:47:11 WARN TaskSetManager: Stage 1519 contains a task of very large size (8248 KiB). The maximum recommended task size is 1000 KiB.\n",
            "24/10/16 12:47:13 WARN TaskSetManager: Stage 1520 contains a task of very large size (8248 KiB). The maximum recommended task size is 1000 KiB.\n",
            "24/10/16 12:47:21 WARN TaskSetManager: Stage 1557 contains a task of very large size (8248 KiB). The maximum recommended task size is 1000 KiB.\n",
            "24/10/16 12:47:22 WARN TaskSetManager: Stage 1558 contains a task of very large size (8248 KiB). The maximum recommended task size is 1000 KiB.\n",
            "24/10/16 12:47:42 WARN TaskSetManager: Stage 1611 contains a task of very large size (8248 KiB). The maximum recommended task size is 1000 KiB.\n",
            "24/10/16 12:47:44 WARN TaskSetManager: Stage 1614 contains a task of very large size (8248 KiB). The maximum recommended task size is 1000 KiB.\n",
            "24/10/16 12:47:49 WARN TaskSetManager: Stage 1676 contains a task of very large size (8248 KiB). The maximum recommended task size is 1000 KiB.\n",
            "24/10/16 12:47:51 WARN TaskSetManager: Stage 1677 contains a task of very large size (8248 KiB). The maximum recommended task size is 1000 KiB.\n",
            "24/10/16 12:47:58 WARN TaskSetManager: Stage 1714 contains a task of very large size (8248 KiB). The maximum recommended task size is 1000 KiB.\n",
            "24/10/16 12:47:59 WARN TaskSetManager: Stage 1715 contains a task of very large size (8248 KiB). The maximum recommended task size is 1000 KiB.\n",
            "24/10/16 12:48:20 WARN TaskSetManager: Stage 1768 contains a task of very large size (8248 KiB). The maximum recommended task size is 1000 KiB.\n",
            "24/10/16 12:48:22 WARN TaskSetManager: Stage 1771 contains a task of very large size (8248 KiB). The maximum recommended task size is 1000 KiB.\n",
            "24/10/16 12:48:26 WARN TaskSetManager: Stage 1829 contains a task of very large size (8248 KiB). The maximum recommended task size is 1000 KiB.\n",
            "24/10/16 12:48:29 WARN TaskSetManager: Stage 1830 contains a task of very large size (8248 KiB). The maximum recommended task size is 1000 KiB.\n",
            "24/10/16 12:48:36 WARN TaskSetManager: Stage 1867 contains a task of very large size (8248 KiB). The maximum recommended task size is 1000 KiB.\n",
            "24/10/16 12:48:37 WARN TaskSetManager: Stage 1868 contains a task of very large size (8248 KiB). The maximum recommended task size is 1000 KiB.\n",
            "24/10/16 12:49:02 WARN TaskSetManager: Stage 1921 contains a task of very large size (8248 KiB). The maximum recommended task size is 1000 KiB.\n",
            "24/10/16 12:49:04 WARN TaskSetManager: Stage 1924 contains a task of very large size (8248 KiB). The maximum recommended task size is 1000 KiB.\n",
            "24/10/16 12:49:08 WARN TaskSetManager: Stage 1982 contains a task of very large size (8248 KiB). The maximum recommended task size is 1000 KiB.\n",
            "24/10/16 12:49:10 WARN TaskSetManager: Stage 1983 contains a task of very large size (8248 KiB). The maximum recommended task size is 1000 KiB.\n",
            "24/10/16 12:49:18 WARN TaskSetManager: Stage 2020 contains a task of very large size (8248 KiB). The maximum recommended task size is 1000 KiB.\n",
            "24/10/16 12:49:19 WARN TaskSetManager: Stage 2021 contains a task of very large size (8248 KiB). The maximum recommended task size is 1000 KiB.\n",
            "24/10/16 12:49:42 WARN TaskSetManager: Stage 2074 contains a task of very large size (8248 KiB). The maximum recommended task size is 1000 KiB.\n",
            "24/10/16 12:49:44 WARN TaskSetManager: Stage 2077 contains a task of very large size (8248 KiB). The maximum recommended task size is 1000 KiB.\n",
            "24/10/16 12:49:47 WARN TaskSetManager: Stage 2135 contains a task of very large size (8248 KiB). The maximum recommended task size is 1000 KiB.\n",
            "24/10/16 12:49:49 WARN TaskSetManager: Stage 2136 contains a task of very large size (8248 KiB). The maximum recommended task size is 1000 KiB.\n",
            "24/10/16 12:49:57 WARN TaskSetManager: Stage 2173 contains a task of very large size (8248 KiB). The maximum recommended task size is 1000 KiB.\n",
            "24/10/16 12:49:58 WARN TaskSetManager: Stage 2174 contains a task of very large size (8248 KiB). The maximum recommended task size is 1000 KiB.\n",
            "24/10/16 12:50:22 WARN TaskSetManager: Stage 2247 contains a task of very large size (8248 KiB). The maximum recommended task size is 1000 KiB.\n",
            "24/10/16 12:50:25 WARN TaskSetManager: Stage 2250 contains a task of very large size (8248 KiB). The maximum recommended task size is 1000 KiB.\n",
            "24/10/16 12:50:28 WARN TaskSetManager: Stage 2328 contains a task of very large size (8248 KiB). The maximum recommended task size is 1000 KiB.\n",
            "24/10/16 12:50:30 WARN TaskSetManager: Stage 2329 contains a task of very large size (8248 KiB). The maximum recommended task size is 1000 KiB.\n",
            "24/10/16 12:50:38 WARN TaskSetManager: Stage 2376 contains a task of very large size (8248 KiB). The maximum recommended task size is 1000 KiB.\n",
            "24/10/16 12:50:39 WARN TaskSetManager: Stage 2377 contains a task of very large size (8248 KiB). The maximum recommended task size is 1000 KiB.\n",
            "24/10/16 12:51:02 WARN TaskSetManager: Stage 2450 contains a task of very large size (8248 KiB). The maximum recommended task size is 1000 KiB.\n",
            "24/10/16 12:51:04 WARN TaskSetManager: Stage 2453 contains a task of very large size (8248 KiB). The maximum recommended task size is 1000 KiB.\n",
            "24/10/16 12:51:09 WARN TaskSetManager: Stage 2535 contains a task of very large size (8248 KiB). The maximum recommended task size is 1000 KiB.\n",
            "24/10/16 12:51:10 WARN TaskSetManager: Stage 2536 contains a task of very large size (8248 KiB). The maximum recommended task size is 1000 KiB.\n",
            "24/10/16 12:51:17 WARN TaskSetManager: Stage 2583 contains a task of very large size (8248 KiB). The maximum recommended task size is 1000 KiB.\n",
            "24/10/16 12:51:19 WARN TaskSetManager: Stage 2584 contains a task of very large size (8248 KiB). The maximum recommended task size is 1000 KiB.\n",
            "24/10/16 12:51:43 WARN TaskSetManager: Stage 2657 contains a task of very large size (8248 KiB). The maximum recommended task size is 1000 KiB.\n",
            "24/10/16 12:51:44 WARN TaskSetManager: Stage 2660 contains a task of very large size (8248 KiB). The maximum recommended task size is 1000 KiB.\n",
            "24/10/16 12:51:49 WARN TaskSetManager: Stage 2742 contains a task of very large size (8248 KiB). The maximum recommended task size is 1000 KiB.\n",
            "24/10/16 12:51:51 WARN TaskSetManager: Stage 2743 contains a task of very large size (8248 KiB). The maximum recommended task size is 1000 KiB.\n",
            "24/10/16 12:51:58 WARN TaskSetManager: Stage 2790 contains a task of very large size (8248 KiB). The maximum recommended task size is 1000 KiB.\n",
            "24/10/16 12:51:59 WARN TaskSetManager: Stage 2791 contains a task of very large size (8248 KiB). The maximum recommended task size is 1000 KiB.\n",
            "24/10/16 12:52:26 WARN TaskSetManager: Stage 2864 contains a task of very large size (8248 KiB). The maximum recommended task size is 1000 KiB.\n",
            "24/10/16 12:52:28 WARN TaskSetManager: Stage 2867 contains a task of very large size (8248 KiB). The maximum recommended task size is 1000 KiB.\n",
            "24/10/16 12:52:32 WARN TaskSetManager: Stage 2945 contains a task of very large size (8248 KiB). The maximum recommended task size is 1000 KiB.\n",
            "24/10/16 12:52:34 WARN TaskSetManager: Stage 2946 contains a task of very large size (8248 KiB). The maximum recommended task size is 1000 KiB.\n",
            "24/10/16 12:52:42 WARN TaskSetManager: Stage 2993 contains a task of very large size (8248 KiB). The maximum recommended task size is 1000 KiB.\n",
            "24/10/16 12:52:43 WARN TaskSetManager: Stage 2994 contains a task of very large size (8248 KiB). The maximum recommended task size is 1000 KiB.\n",
            "24/10/16 12:53:10 WARN TaskSetManager: Stage 3067 contains a task of very large size (8248 KiB). The maximum recommended task size is 1000 KiB.\n",
            "24/10/16 12:53:13 WARN TaskSetManager: Stage 3070 contains a task of very large size (8248 KiB). The maximum recommended task size is 1000 KiB.\n",
            "24/10/16 12:53:17 WARN TaskSetManager: Stage 3148 contains a task of very large size (8248 KiB). The maximum recommended task size is 1000 KiB.\n",
            "24/10/16 12:53:19 WARN TaskSetManager: Stage 3149 contains a task of very large size (8248 KiB). The maximum recommended task size is 1000 KiB.\n",
            "24/10/16 12:53:26 WARN TaskSetManager: Stage 3196 contains a task of very large size (8248 KiB). The maximum recommended task size is 1000 KiB.\n",
            "24/10/16 12:53:28 WARN TaskSetManager: Stage 3197 contains a task of very large size (8248 KiB). The maximum recommended task size is 1000 KiB.\n",
            "24/10/16 12:53:53 WARN TaskSetManager: Stage 3270 contains a task of very large size (8248 KiB). The maximum recommended task size is 1000 KiB.\n",
            "24/10/16 12:53:56 WARN TaskSetManager: Stage 3273 contains a task of very large size (8248 KiB). The maximum recommended task size is 1000 KiB.\n",
            "24/10/16 12:53:59 WARN TaskSetManager: Stage 3355 contains a task of very large size (8248 KiB). The maximum recommended task size is 1000 KiB.\n",
            "24/10/16 12:54:02 WARN TaskSetManager: Stage 3356 contains a task of very large size (8248 KiB). The maximum recommended task size is 1000 KiB.\n",
            "24/10/16 12:54:10 WARN TaskSetManager: Stage 3403 contains a task of very large size (8248 KiB). The maximum recommended task size is 1000 KiB.\n",
            "24/10/16 12:54:11 WARN TaskSetManager: Stage 3404 contains a task of very large size (8248 KiB). The maximum recommended task size is 1000 KiB.\n",
            "24/10/16 12:54:41 WARN TaskSetManager: Stage 3477 contains a task of very large size (8248 KiB). The maximum recommended task size is 1000 KiB.\n",
            "24/10/16 12:54:43 WARN TaskSetManager: Stage 3480 contains a task of very large size (8248 KiB). The maximum recommended task size is 1000 KiB.\n",
            "24/10/16 12:54:46 WARN TaskSetManager: Stage 3562 contains a task of very large size (8248 KiB). The maximum recommended task size is 1000 KiB.\n",
            "24/10/16 12:54:48 WARN TaskSetManager: Stage 3563 contains a task of very large size (8248 KiB). The maximum recommended task size is 1000 KiB.\n",
            "24/10/16 12:54:56 WARN TaskSetManager: Stage 3610 contains a task of very large size (8248 KiB). The maximum recommended task size is 1000 KiB.\n",
            "24/10/16 12:54:57 WARN TaskSetManager: Stage 3611 contains a task of very large size (8248 KiB). The maximum recommended task size is 1000 KiB.\n",
            "24/10/16 12:55:26 WARN TaskSetManager: Stage 3684 contains a task of very large size (8248 KiB). The maximum recommended task size is 1000 KiB.\n",
            "24/10/16 12:55:28 WARN TaskSetManager: Stage 3687 contains a task of very large size (8248 KiB). The maximum recommended task size is 1000 KiB.\n",
            "24/10/16 12:55:32 WARN TaskSetManager: Stage 3765 contains a task of very large size (8248 KiB). The maximum recommended task size is 1000 KiB.\n",
            "24/10/16 12:55:34 WARN TaskSetManager: Stage 3766 contains a task of very large size (8248 KiB). The maximum recommended task size is 1000 KiB.\n",
            "24/10/16 12:55:41 WARN TaskSetManager: Stage 3813 contains a task of very large size (8248 KiB). The maximum recommended task size is 1000 KiB.\n",
            "24/10/16 12:55:42 WARN TaskSetManager: Stage 3814 contains a task of very large size (8248 KiB). The maximum recommended task size is 1000 KiB.\n",
            "24/10/16 12:56:12 WARN TaskSetManager: Stage 3887 contains a task of very large size (8248 KiB). The maximum recommended task size is 1000 KiB.\n",
            "24/10/16 12:56:16 WARN TaskSetManager: Stage 3890 contains a task of very large size (8248 KiB). The maximum recommended task size is 1000 KiB.\n",
            "24/10/16 12:56:19 WARN TaskSetManager: Stage 3968 contains a task of very large size (8248 KiB). The maximum recommended task size is 1000 KiB.\n",
            "24/10/16 12:56:21 WARN TaskSetManager: Stage 3969 contains a task of very large size (8248 KiB). The maximum recommended task size is 1000 KiB.\n",
            "24/10/16 12:56:29 WARN TaskSetManager: Stage 4016 contains a task of very large size (8248 KiB). The maximum recommended task size is 1000 KiB.\n",
            "24/10/16 12:56:30 WARN TaskSetManager: Stage 4017 contains a task of very large size (8248 KiB). The maximum recommended task size is 1000 KiB.\n",
            "24/10/16 12:57:00 WARN TaskSetManager: Stage 4110 contains a task of very large size (8248 KiB). The maximum recommended task size is 1000 KiB.\n",
            "24/10/16 12:57:02 WARN TaskSetManager: Stage 4113 contains a task of very large size (8248 KiB). The maximum recommended task size is 1000 KiB.\n",
            "24/10/16 12:57:05 WARN TaskSetManager: Stage 4215 contains a task of very large size (8248 KiB). The maximum recommended task size is 1000 KiB.\n",
            "24/10/16 12:57:07 WARN TaskSetManager: Stage 4216 contains a task of very large size (8248 KiB). The maximum recommended task size is 1000 KiB.\n",
            "24/10/16 12:57:15 WARN TaskSetManager: Stage 4273 contains a task of very large size (8248 KiB). The maximum recommended task size is 1000 KiB.\n",
            "24/10/16 12:57:16 WARN TaskSetManager: Stage 4274 contains a task of very large size (8248 KiB). The maximum recommended task size is 1000 KiB.\n",
            "24/10/16 12:57:50 WARN TaskSetManager: Stage 4367 contains a task of very large size (8248 KiB). The maximum recommended task size is 1000 KiB.\n",
            "24/10/16 12:57:52 WARN TaskSetManager: Stage 4370 contains a task of very large size (8248 KiB). The maximum recommended task size is 1000 KiB.\n",
            "24/10/16 12:57:57 WARN TaskSetManager: Stage 4472 contains a task of very large size (8248 KiB). The maximum recommended task size is 1000 KiB.\n",
            "24/10/16 12:57:59 WARN TaskSetManager: Stage 4473 contains a task of very large size (8248 KiB). The maximum recommended task size is 1000 KiB.\n",
            "24/10/16 12:58:06 WARN TaskSetManager: Stage 4530 contains a task of very large size (8248 KiB). The maximum recommended task size is 1000 KiB.\n",
            "24/10/16 12:58:07 WARN TaskSetManager: Stage 4531 contains a task of very large size (8248 KiB). The maximum recommended task size is 1000 KiB.\n",
            "24/10/16 12:58:38 WARN TaskSetManager: Stage 4624 contains a task of very large size (8248 KiB). The maximum recommended task size is 1000 KiB.\n",
            "24/10/16 12:58:40 WARN TaskSetManager: Stage 4627 contains a task of very large size (8248 KiB). The maximum recommended task size is 1000 KiB.\n",
            "24/10/16 12:58:43 WARN TaskSetManager: Stage 4725 contains a task of very large size (8248 KiB). The maximum recommended task size is 1000 KiB.\n",
            "24/10/16 12:58:45 WARN TaskSetManager: Stage 4726 contains a task of very large size (8248 KiB). The maximum recommended task size is 1000 KiB.\n",
            "24/10/16 12:58:53 WARN TaskSetManager: Stage 4783 contains a task of very large size (8248 KiB). The maximum recommended task size is 1000 KiB.\n",
            "24/10/16 12:58:54 WARN TaskSetManager: Stage 4784 contains a task of very large size (8248 KiB). The maximum recommended task size is 1000 KiB.\n",
            "24/10/16 12:59:26 WARN TaskSetManager: Stage 4877 contains a task of very large size (8248 KiB). The maximum recommended task size is 1000 KiB.\n",
            "24/10/16 12:59:28 WARN TaskSetManager: Stage 4880 contains a task of very large size (8248 KiB). The maximum recommended task size is 1000 KiB.\n",
            "24/10/16 12:59:33 WARN TaskSetManager: Stage 4936 contains a task of very large size (8248 KiB). The maximum recommended task size is 1000 KiB.\n",
            "24/10/16 12:59:35 WARN TaskSetManager: Stage 4937 contains a task of very large size (8248 KiB). The maximum recommended task size is 1000 KiB.\n",
            "24/10/16 12:59:42 WARN TaskSetManager: Stage 4994 contains a task of very large size (8248 KiB). The maximum recommended task size is 1000 KiB.\n",
            "24/10/16 12:59:43 WARN TaskSetManager: Stage 4995 contains a task of very large size (8248 KiB). The maximum recommended task size is 1000 KiB.\n",
            "24/10/16 13:00:17 WARN TaskSetManager: Stage 5088 contains a task of very large size (8248 KiB). The maximum recommended task size is 1000 KiB.\n",
            "24/10/16 13:00:19 WARN TaskSetManager: Stage 5091 contains a task of very large size (8248 KiB). The maximum recommended task size is 1000 KiB.\n",
            "24/10/16 13:00:22 WARN TaskSetManager: Stage 5193 contains a task of very large size (8248 KiB). The maximum recommended task size is 1000 KiB.\n",
            "24/10/16 13:00:24 WARN TaskSetManager: Stage 5194 contains a task of very large size (8248 KiB). The maximum recommended task size is 1000 KiB.\n",
            "24/10/16 13:00:32 WARN TaskSetManager: Stage 5251 contains a task of very large size (8248 KiB). The maximum recommended task size is 1000 KiB.\n",
            "24/10/16 13:00:33 WARN TaskSetManager: Stage 5252 contains a task of very large size (8248 KiB). The maximum recommended task size is 1000 KiB.\n",
            "24/10/16 13:01:06 WARN TaskSetManager: Stage 5345 contains a task of very large size (8248 KiB). The maximum recommended task size is 1000 KiB.\n",
            "24/10/16 13:01:08 WARN TaskSetManager: Stage 5348 contains a task of very large size (8248 KiB). The maximum recommended task size is 1000 KiB.\n",
            "24/10/16 13:01:13 WARN TaskSetManager: Stage 5450 contains a task of very large size (8248 KiB). The maximum recommended task size is 1000 KiB.\n",
            "24/10/16 13:01:14 WARN TaskSetManager: Stage 5451 contains a task of very large size (8248 KiB). The maximum recommended task size is 1000 KiB.\n",
            "24/10/16 13:01:21 WARN TaskSetManager: Stage 5508 contains a task of very large size (8248 KiB). The maximum recommended task size is 1000 KiB.\n",
            "24/10/16 13:01:23 WARN TaskSetManager: Stage 5509 contains a task of very large size (8248 KiB). The maximum recommended task size is 1000 KiB.\n",
            "24/10/16 13:01:59 WARN TaskSetManager: Stage 5602 contains a task of very large size (8248 KiB). The maximum recommended task size is 1000 KiB.\n",
            "24/10/16 13:02:01 WARN TaskSetManager: Stage 5605 contains a task of very large size (8248 KiB). The maximum recommended task size is 1000 KiB.\n",
            "24/10/16 13:02:05 WARN TaskSetManager: Stage 5707 contains a task of very large size (8248 KiB). The maximum recommended task size is 1000 KiB.\n",
            "24/10/16 13:02:08 WARN TaskSetManager: Stage 5708 contains a task of very large size (8248 KiB). The maximum recommended task size is 1000 KiB.\n",
            "24/10/16 13:02:15 WARN TaskSetManager: Stage 5765 contains a task of very large size (8248 KiB). The maximum recommended task size is 1000 KiB.\n",
            "24/10/16 13:02:15 WARN TaskSetManager: Stage 5766 contains a task of very large size (8248 KiB). The maximum recommended task size is 1000 KiB.\n",
            "24/10/16 13:02:53 WARN TaskSetManager: Stage 5859 contains a task of very large size (8248 KiB). The maximum recommended task size is 1000 KiB.\n",
            "24/10/16 13:02:55 WARN TaskSetManager: Stage 5862 contains a task of very large size (8248 KiB). The maximum recommended task size is 1000 KiB.\n",
            "24/10/16 13:02:58 WARN TaskSetManager: Stage 5918 contains a task of very large size (8248 KiB). The maximum recommended task size is 1000 KiB.\n",
            "24/10/16 13:03:00 WARN TaskSetManager: Stage 5919 contains a task of very large size (8248 KiB). The maximum recommended task size is 1000 KiB.\n",
            "24/10/16 13:03:08 WARN TaskSetManager: Stage 5976 contains a task of very large size (8248 KiB). The maximum recommended task size is 1000 KiB.\n",
            "24/10/16 13:03:09 WARN TaskSetManager: Stage 5977 contains a task of very large size (8248 KiB). The maximum recommended task size is 1000 KiB.\n",
            "24/10/16 13:03:47 WARN TaskSetManager: Stage 6070 contains a task of very large size (8248 KiB). The maximum recommended task size is 1000 KiB.\n",
            "24/10/16 13:03:49 WARN TaskSetManager: Stage 6073 contains a task of very large size (8248 KiB). The maximum recommended task size is 1000 KiB.\n",
            "24/10/16 13:03:52 WARN TaskSetManager: Stage 6175 contains a task of very large size (8248 KiB). The maximum recommended task size is 1000 KiB.\n",
            "24/10/16 13:03:55 WARN TaskSetManager: Stage 6176 contains a task of very large size (8248 KiB). The maximum recommended task size is 1000 KiB.\n"
          ]
        }
      ]
    },
    {
      "cell_type": "code",
      "source": [
        "\n",
        "rmse_score = [float('%.4f' % x) for x in rmse_score]\n",
        "rmse_score"
      ],
      "metadata": {
        "colab": {
          "base_uri": "https://localhost:8080/"
        },
        "id": "V983wGrLio_d",
        "outputId": "a4624940-d3cb-4782-da45-06699f6c1da8"
      },
      "execution_count": 32,
      "outputs": [
        {
          "output_type": "execute_result",
          "data": {
            "text/plain": [
              "[0.9551,\n",
              " 0.8683,\n",
              " 1.3556,\n",
              " 1.0453,\n",
              " 0.8674,\n",
              " 1.3556,\n",
              " 1.1218,\n",
              " 0.8667,\n",
              " 1.3556,\n",
              " 0.9559,\n",
              " 0.8632,\n",
              " 1.3556,\n",
              " 1.0529,\n",
              " 0.8616,\n",
              " 1.3556,\n",
              " 1.1328,\n",
              " 0.8612,\n",
              " 1.3556,\n",
              " 0.9589,\n",
              " 0.8612,\n",
              " 1.3556,\n",
              " 1.059,\n",
              " 0.8593,\n",
              " 1.3556,\n",
              " 1.1437,\n",
              " 0.8589,\n",
              " 1.3556]"
            ]
          },
          "metadata": {},
          "execution_count": 32
        }
      ]
    },
    {
      "cell_type": "markdown",
      "source": [],
      "metadata": {
        "id": "qwNxDNuxoMsg"
      }
    },
    {
      "cell_type": "code",
      "source": [
        "rmse_score_array = np.reshape(rmse_score, (len(param_dict[\"rank\"]), len(param_dict[\"regParam\"]),  len(param_dict[\"maxIter\"])))"
      ],
      "metadata": {
        "id": "nM1hzT6PoFao"
      },
      "execution_count": 33,
      "outputs": []
    },
    {
      "cell_type": "code",
      "source": [
        "# Select a fixed rank and iterate over regParam and maxIter to create a heatmap\n",
        "rank_index = 0  # For example, select the first rank (10)\n",
        "heatmap_data = pd.DataFrame(rmse_score_array[rank_index],\n",
        "                            index=param_dict['regParam'],\n",
        "                            columns=param_dict['maxIter'])\n",
        "\n",
        "# Plot the heatmap\n",
        "plt.figure(figsize=(10, 6))\n",
        "sns.heatmap(heatmap_data, annot=True, cmap=\"viridis\", linewidths=.5)\n",
        "plt.title(f'Performance Heatmap for Rank = {param_dict[\"rank\"][rank_index]}')\n",
        "plt.xlabel('maxIter')\n",
        "plt.ylabel('regParam')\n",
        "plt.show()"
      ],
      "metadata": {
        "colab": {
          "base_uri": "https://localhost:8080/",
          "height": 564
        },
        "id": "-aGZ-tQNpEuI",
        "outputId": "3f8f430f-1ca8-466a-eac0-333f4502f379"
      },
      "execution_count": 34,
      "outputs": [
        {
          "output_type": "display_data",
          "data": {
            "text/plain": [
              "<Figure size 1000x600 with 2 Axes>"
            ],
            "image/png": "[encoded data removed]"
          },
          "metadata": {}
        }
      ]
    },
    {
      "cell_type": "code",
      "source": [
        "# Select a fixed rank and iterate over regParam and maxIter to create a heatmap\n",
        "rank_index = 1  # For example, select the first rank (10)\n",
        "heatmap_data = pd.DataFrame(rmse_score_array[rank_index],\n",
        "                            index=param_dict['regParam'],\n",
        "                            columns=param_dict['maxIter'])\n",
        "\n",
        "# Plot the heatmap\n",
        "plt.figure(figsize=(10, 6))\n",
        "sns.heatmap(heatmap_data, annot=True, cmap=\"viridis\", linewidths=.5)\n",
        "plt.title(f'Performance Heatmap for Rank = {param_dict[\"rank\"][rank_index]}')\n",
        "plt.xlabel('maxIter')\n",
        "plt.ylabel('regParam')\n",
        "plt.show()"
      ],
      "metadata": {
        "colab": {
          "base_uri": "https://localhost:8080/",
          "height": 564
        },
        "id": "VMmjAVRvqYDL",
        "outputId": "dc15749a-d124-4116-f850-c0f2dbfc41b6"
      },
      "execution_count": 35,
      "outputs": [
        {
          "output_type": "display_data",
          "data": {
            "text/plain": [
              "<Figure size 1000x600 with 2 Axes>"
            ],
            "image/png": "[encoded data removed]"
          },
          "metadata": {}
        }
      ]
    },
    {
      "cell_type": "code",
      "source": [
        "# Select a fixed rank and iterate over regParam and maxIter to create a heatmap\n",
        "rank_index = 2  # For example, select the first rank (10)\n",
        "heatmap_data = pd.DataFrame(rmse_score_array[rank_index],\n",
        "                            index=param_dict['regParam'],\n",
        "                            columns=param_dict['maxIter'])\n",
        "\n",
        "# Plot the heatmap\n",
        "plt.figure(figsize=(10, 6))\n",
        "sns.heatmap(heatmap_data, annot=True, cmap=\"viridis\", linewidths=.5)\n",
        "plt.title(f'Performance Heatmap for Rank = {param_dict[\"rank\"][rank_index]}')\n",
        "plt.xlabel('maxIter')\n",
        "plt.ylabel('regParam')\n",
        "plt.show()"
      ],
      "metadata": {
        "colab": {
          "base_uri": "https://localhost:8080/",
          "height": 564
        },
        "id": "yZrXPEeIqZgl",
        "outputId": "e6a7183a-fc41-481b-ccf4-5daf60a3006e"
      },
      "execution_count": 36,
      "outputs": [
        {
          "output_type": "display_data",
          "data": {
            "text/plain": [
              "<Figure size 1000x600 with 2 Axes>"
            ],
            "image/png": "[encoded data removed]"
          },
          "metadata": {}
        }
      ]
    },
    {
      "cell_type": "code",
      "source": [
        "# Find the index of the minimum value\n",
        "min_value_index = np.unravel_index(np.argmin(rmse_score_array), rmse_score_array.shape)\n",
        "# Extract the corresponding parameter values\n",
        "optimal_rank = param_dict['rank'][min_value_index[0]]\n",
        "optimal_regParam = param_dict['regParam'][min_value_index[1]]\n",
        "optimal_maxIter = param_dict['maxIter'][min_value_index[2]]\n",
        "\n",
        "optimal_params = {\n",
        "    \"rank\": optimal_rank,\n",
        "    \"regParam\": optimal_regParam,\n",
        "    \"maxIter\": optimal_maxIter,\n",
        "\n",
        "}\n",
        "\n",
        "print(f\"Best model with best rmse_score :  {rmse_score_array[min_value_index]}\", optimal_params)"
      ],
      "metadata": {
        "colab": {
          "base_uri": "https://localhost:8080/"
        },
        "id": "ANovFm0kqjsh",
        "outputId": "1276916b-805a-4a52-9fe4-fdb91d00894c"
      },
      "execution_count": 37,
      "outputs": [
        {
          "output_type": "stream",
          "name": "stdout",
          "text": [
            "Best model with best rmse_score :  0.8589 {'rank': 20, 'regParam': 1.0, 'maxIter': 15}\n"
          ]
        }
      ]
    },
    {
      "cell_type": "code",
      "source": [
        "als = ALS(\n",
        "    userCol=COL_USER,\n",
        "    itemCol=COL_ITEM,\n",
        "    ratingCol=COL_RATING,\n",
        "    coldStartStrategy=\"drop\",\n",
        "    **optimal_params\n",
        ")\n",
        "\n",
        "model = als.fit(dfs_train)"
      ],
      "metadata": {
        "colab": {
          "base_uri": "https://localhost:8080/"
        },
        "id": "gQHv-u92q5PA",
        "outputId": "14721d37-1222-482e-ede2-de91332e8878"
      },
      "execution_count": 38,
      "outputs": [
        {
          "output_type": "stream",
          "name": "stderr",
          "text": [
            "24/10/16 13:04:04 WARN TaskSetManager: Stage 6233 contains a task of very large size (8248 KiB). The maximum recommended task size is 1000 KiB.\n",
            "24/10/16 13:04:05 WARN TaskSetManager: Stage 6234 contains a task of very large size (8248 KiB). The maximum recommended task size is 1000 KiB.\n"
          ]
        }
      ]
    },
    {
      "cell_type": "markdown",
      "source": [
        "### Recommendation for all users :"
      ],
      "metadata": {
        "id": "61uV5somrxPm"
      }
    },
    {
      "cell_type": "code",
      "source": [
        "dfs_rec = model.recommendForAllUsers(10)\n",
        "dfs_rec.show(10)\n",
        "\n"
      ],
      "metadata": {
        "id": "zArioh6qr0K1"
      },
      "execution_count": null,
      "outputs": []
    },
    {
      "cell_type": "code",
      "source": [
        "\n",
        "users = dfs_train.select(als.getUserCol()).distinct().limit(3)\n",
        "\n",
        "dfs_rec_subset = model.recommendForUserSubset(users, 10)\n",
        "\n",
        "\n",
        "dfs_rec_subset.show(10)"
      ],
      "metadata": {
        "id": "WVgpOV0Vr4gS"
      },
      "execution_count": null,
      "outputs": []
    },
    {
      "cell_type": "code",
      "source": [
        "spark.stop()"
      ],
      "metadata": {
        "id": "fG-c5EKHrVaL"
      },
      "execution_count": null,
      "outputs": []
    },
    {
      "cell_type": "code",
      "source": [],
      "metadata": {
        "id": "J5-mQo5qqYGY"
      },
      "execution_count": null,
      "outputs": []
    },
    {
      "cell_type": "code",
      "source": [],
      "metadata": {
        "id": "YYwLVJBERC0U"
      },
      "execution_count": 41,
      "outputs": []
    },
    {
      "cell_type": "markdown",
      "source": [],
      "metadata": {
        "id": "BY6_qMdRoNMQ"
      }
    }
  ]
}