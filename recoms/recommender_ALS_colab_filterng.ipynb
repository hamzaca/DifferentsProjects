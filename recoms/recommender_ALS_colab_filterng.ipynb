{
 "cells": [
  {
   "cell_type": "markdown",
   "id": "6bf0f283-c0e5-4e63-8fab-2b5daeb66683",
   "metadata": {},
   "source": [
    "# Recommendation system for Movies :  Alternating Least Square (ALS) \n",
    "\n",
    "Link to download the data : https://grouplens.org/datasets/movielens/\n",
    "\n",
    "ALS : Matrix factorization models map both users and items to a joint latent factor space of dimensionality $f$, , such that user-item interactions are modeled as inner products in that space.\n",
    "each item i is associated with a vector $q_{i}$ ∈ \t$\\mathbb{R}^f$, and each user u is associated with a vector $p_{u}$∈$\\mathbb{R}^f$.\n",
    "\n",
    "The ratings are modeled as follows:\n",
    "\n",
    "$$ \\hat{r}_{ui} =  q_{i}^Tp_{u} $$\n",
    "\n",
    "$µ$ over all average rating.\n",
    "\n",
    "$b_{u}$ and $b_{i}$ deviations of user u and item i, respectively,from the average.\n",
    "\n",
    "\n",
    "\n",
    "To minimize : \n",
    "$$\\min_{ p^*,q^*} \\sum_{r_{ui} \\in R_{train}} \\left(r_{ui} -  q_{i}^Tp_{u} \\right)^2 + \\lambda(||p_{u}||^2 + ||q_{i}||^2)$$"
   ]
  },
  {
   "cell_type": "code",
   "execution_count": 4,
   "id": "7fd3ac4c-942d-40f0-aef3-e4965a292e15",
   "metadata": {},
   "outputs": [],
   "source": [
    "import pandas as pd \n",
    "from surprise import Dataset, accuracy, Reader, SVD\n",
    "from surprise.model_selection import cross_validate\n",
    "from sklearn.preprocessing import LabelEncoder, MultiLabelBinarizer\n",
    "from sklearn.model_selection import train_test_split\n",
    "pd.set_option('display.max_columns', None)\n",
    "\n",
    "def get_top_n_recommendations(model,df,user_id, n=3):\n",
    "  user_movies = df[df['userId'] == user_id]['movieId'].unique()\n",
    "  all_movies = df['movieId'].unique()\n",
    "  movies_to_predict = list(set(all_movies) - set(user_movies))\n",
    "  user_movie_pairs = [(user_id, movie_id, 0) for movie_id in movies_to_predict]\n",
    "  predictions_cf = model.test(user_movie_pairs)\n",
    "  top_n_recommendations = sorted(predictions_cf, key = lambda x: x.est)[:n]\n",
    "  for pred in top_n_recommendations:\n",
    "    predicted_rating = pred.est\n",
    "    print(predicted_rating)\n",
    "  top_n_movie_ids = [int(pred.iid) for pred in top_n_recommendations]\n",
    "  top_n_movies = movie_encoder.inverse_transform(top_n_movie_ids)\n",
    "  return top_n_movies"
   ]
  },
  {
   "cell_type": "markdown",
   "id": "40fc3973-54e6-4925-8fdf-1de47a89706d",
   "metadata": {},
   "source": [
    "## Read Data : "
   ]
  },
  {
   "cell_type": "code",
   "execution_count": 5,
   "id": "090b1cd8-7d9b-4361-ad5b-97c0dbb604d2",
   "metadata": {},
   "outputs": [],
   "source": [
    "data_size = \"ml-latest-small\"# \"ml-32m\"\n",
    "ratings = pd.read_csv(f\"./data/{data_size}/ratings.csv\")\n",
    "movies = pd.read_csv(f\"./data/{data_size}/movies.csv\")\n",
    "\n"
   ]
  },
  {
   "cell_type": "code",
   "execution_count": 6,
   "id": "64eeb55f-b493-4004-8435-04bf7ee1aad1",
   "metadata": {},
   "outputs": [
    {
     "data": {
      "text/html": [
       "<div>\n",
       "<style scoped>\n",
       "    .dataframe tbody tr th:only-of-type {\n",
       "        vertical-align: middle;\n",
       "    }\n",
       "\n",
       "    .dataframe tbody tr th {\n",
       "        vertical-align: top;\n",
       "    }\n",
       "\n",
       "    .dataframe thead th {\n",
       "        text-align: right;\n",
       "    }\n",
       "</style>\n",
       "<table border=\"1\" class=\"dataframe\">\n",
       "  <thead>\n",
       "    <tr style=\"text-align: right;\">\n",
       "      <th></th>\n",
       "      <th>userId</th>\n",
       "      <th>movieId</th>\n",
       "      <th>rating</th>\n",
       "      <th>timestamp</th>\n",
       "      <th>genres</th>\n",
       "    </tr>\n",
       "  </thead>\n",
       "  <tbody>\n",
       "    <tr>\n",
       "      <th>0</th>\n",
       "      <td>1</td>\n",
       "      <td>1</td>\n",
       "      <td>4.0</td>\n",
       "      <td>964982703</td>\n",
       "      <td>Adventure|Animation|Children|Comedy|Fantasy</td>\n",
       "    </tr>\n",
       "    <tr>\n",
       "      <th>1</th>\n",
       "      <td>1</td>\n",
       "      <td>3</td>\n",
       "      <td>4.0</td>\n",
       "      <td>964981247</td>\n",
       "      <td>Comedy|Romance</td>\n",
       "    </tr>\n",
       "  </tbody>\n",
       "</table>\n",
       "</div>"
      ],
      "text/plain": [
       "   userId  movieId  rating  timestamp  \\\n",
       "0       1        1     4.0  964982703   \n",
       "1       1        3     4.0  964981247   \n",
       "\n",
       "                                        genres  \n",
       "0  Adventure|Animation|Children|Comedy|Fantasy  \n",
       "1                               Comedy|Romance  "
      ]
     },
     "execution_count": 6,
     "metadata": {},
     "output_type": "execute_result"
    }
   ],
   "source": [
    "movies_ratings = pd.merge(left=ratings, right=movies, how='left' , on=\"movieId\")\n",
    "movies_ratings.drop(columns=[\"title\"], inplace=True)\n",
    "movies_ratings.head(2)"
   ]
  },
  {
   "cell_type": "markdown",
   "id": "d9eafc6d-5084-43f6-ab1b-1b4f8eb8c89a",
   "metadata": {},
   "source": [
    "## Preprocess data : "
   ]
  },
  {
   "cell_type": "code",
   "execution_count": 7,
   "id": "da2d96ff-a802-4425-8ccb-30af3e6a9e69",
   "metadata": {},
   "outputs": [],
   "source": [
    "user_encoder = LabelEncoder()\n",
    "movie_encoder = LabelEncoder()\n",
    "mlb = MultiLabelBinarizer()\n",
    "\n",
    "movies_ratings['userId'] = user_encoder.fit_transform(movies_ratings['userId'])\n",
    "movies_ratings['movieId'] = movie_encoder.fit_transform(movies_ratings['movieId'])"
   ]
  },
  {
   "cell_type": "code",
   "execution_count": 8,
   "id": "38e0e267-0127-4cd2-ae95-233c8d8705b0",
   "metadata": {},
   "outputs": [
    {
     "data": {
      "text/plain": [
       "0         [Adventure, Animation, Children, Comedy, Fantasy]\n",
       "1                                         [Comedy, Romance]\n",
       "2                                 [Action, Crime, Thriller]\n",
       "3                                       [Mystery, Thriller]\n",
       "4                                [Crime, Mystery, Thriller]\n",
       "                                ...                        \n",
       "100831                            [Drama, Horror, Thriller]\n",
       "100832                            [Action, Crime, Thriller]\n",
       "100833                                             [Horror]\n",
       "100834                                     [Action, Sci-Fi]\n",
       "100835                     [Action, Crime, Drama, Thriller]\n",
       "Name: genres, Length: 100836, dtype: object"
      ]
     },
     "execution_count": 8,
     "metadata": {},
     "output_type": "execute_result"
    }
   ],
   "source": [
    "genres_list_df= movies_ratings.pop('genres').str.split('|')\n",
    "genres_list_df"
   ]
  },
  {
   "cell_type": "code",
   "execution_count": 9,
   "id": "f51c0674-6350-403f-815a-bb5c2cd0c5bd",
   "metadata": {},
   "outputs": [
    {
     "data": {
      "text/html": [
       "<div>\n",
       "<style scoped>\n",
       "    .dataframe tbody tr th:only-of-type {\n",
       "        vertical-align: middle;\n",
       "    }\n",
       "\n",
       "    .dataframe tbody tr th {\n",
       "        vertical-align: top;\n",
       "    }\n",
       "\n",
       "    .dataframe thead th {\n",
       "        text-align: right;\n",
       "    }\n",
       "</style>\n",
       "<table border=\"1\" class=\"dataframe\">\n",
       "  <thead>\n",
       "    <tr style=\"text-align: right;\">\n",
       "      <th></th>\n",
       "      <th>userId</th>\n",
       "      <th>movieId</th>\n",
       "      <th>rating</th>\n",
       "      <th>timestamp</th>\n",
       "      <th>(no genres listed)</th>\n",
       "      <th>Action</th>\n",
       "      <th>Adventure</th>\n",
       "      <th>Animation</th>\n",
       "      <th>Children</th>\n",
       "      <th>Comedy</th>\n",
       "      <th>Crime</th>\n",
       "      <th>Documentary</th>\n",
       "      <th>Drama</th>\n",
       "      <th>Fantasy</th>\n",
       "      <th>Film-Noir</th>\n",
       "      <th>Horror</th>\n",
       "      <th>IMAX</th>\n",
       "      <th>Musical</th>\n",
       "      <th>Mystery</th>\n",
       "      <th>Romance</th>\n",
       "      <th>Sci-Fi</th>\n",
       "      <th>Thriller</th>\n",
       "      <th>War</th>\n",
       "      <th>Western</th>\n",
       "    </tr>\n",
       "  </thead>\n",
       "  <tbody>\n",
       "    <tr>\n",
       "      <th>0</th>\n",
       "      <td>0</td>\n",
       "      <td>0</td>\n",
       "      <td>4.0</td>\n",
       "      <td>964982703</td>\n",
       "      <td>0</td>\n",
       "      <td>0</td>\n",
       "      <td>1</td>\n",
       "      <td>1</td>\n",
       "      <td>1</td>\n",
       "      <td>1</td>\n",
       "      <td>0</td>\n",
       "      <td>0</td>\n",
       "      <td>0</td>\n",
       "      <td>1</td>\n",
       "      <td>0</td>\n",
       "      <td>0</td>\n",
       "      <td>0</td>\n",
       "      <td>0</td>\n",
       "      <td>0</td>\n",
       "      <td>0</td>\n",
       "      <td>0</td>\n",
       "      <td>0</td>\n",
       "      <td>0</td>\n",
       "      <td>0</td>\n",
       "    </tr>\n",
       "    <tr>\n",
       "      <th>1</th>\n",
       "      <td>0</td>\n",
       "      <td>2</td>\n",
       "      <td>4.0</td>\n",
       "      <td>964981247</td>\n",
       "      <td>0</td>\n",
       "      <td>0</td>\n",
       "      <td>0</td>\n",
       "      <td>0</td>\n",
       "      <td>0</td>\n",
       "      <td>1</td>\n",
       "      <td>0</td>\n",
       "      <td>0</td>\n",
       "      <td>0</td>\n",
       "      <td>0</td>\n",
       "      <td>0</td>\n",
       "      <td>0</td>\n",
       "      <td>0</td>\n",
       "      <td>0</td>\n",
       "      <td>0</td>\n",
       "      <td>1</td>\n",
       "      <td>0</td>\n",
       "      <td>0</td>\n",
       "      <td>0</td>\n",
       "      <td>0</td>\n",
       "    </tr>\n",
       "    <tr>\n",
       "      <th>2</th>\n",
       "      <td>0</td>\n",
       "      <td>5</td>\n",
       "      <td>4.0</td>\n",
       "      <td>964982224</td>\n",
       "      <td>0</td>\n",
       "      <td>1</td>\n",
       "      <td>0</td>\n",
       "      <td>0</td>\n",
       "      <td>0</td>\n",
       "      <td>0</td>\n",
       "      <td>1</td>\n",
       "      <td>0</td>\n",
       "      <td>0</td>\n",
       "      <td>0</td>\n",
       "      <td>0</td>\n",
       "      <td>0</td>\n",
       "      <td>0</td>\n",
       "      <td>0</td>\n",
       "      <td>0</td>\n",
       "      <td>0</td>\n",
       "      <td>0</td>\n",
       "      <td>1</td>\n",
       "      <td>0</td>\n",
       "      <td>0</td>\n",
       "    </tr>\n",
       "    <tr>\n",
       "      <th>3</th>\n",
       "      <td>0</td>\n",
       "      <td>43</td>\n",
       "      <td>5.0</td>\n",
       "      <td>964983815</td>\n",
       "      <td>0</td>\n",
       "      <td>0</td>\n",
       "      <td>0</td>\n",
       "      <td>0</td>\n",
       "      <td>0</td>\n",
       "      <td>0</td>\n",
       "      <td>0</td>\n",
       "      <td>0</td>\n",
       "      <td>0</td>\n",
       "      <td>0</td>\n",
       "      <td>0</td>\n",
       "      <td>0</td>\n",
       "      <td>0</td>\n",
       "      <td>0</td>\n",
       "      <td>1</td>\n",
       "      <td>0</td>\n",
       "      <td>0</td>\n",
       "      <td>1</td>\n",
       "      <td>0</td>\n",
       "      <td>0</td>\n",
       "    </tr>\n",
       "    <tr>\n",
       "      <th>4</th>\n",
       "      <td>0</td>\n",
       "      <td>46</td>\n",
       "      <td>5.0</td>\n",
       "      <td>964982931</td>\n",
       "      <td>0</td>\n",
       "      <td>0</td>\n",
       "      <td>0</td>\n",
       "      <td>0</td>\n",
       "      <td>0</td>\n",
       "      <td>0</td>\n",
       "      <td>1</td>\n",
       "      <td>0</td>\n",
       "      <td>0</td>\n",
       "      <td>0</td>\n",
       "      <td>0</td>\n",
       "      <td>0</td>\n",
       "      <td>0</td>\n",
       "      <td>0</td>\n",
       "      <td>1</td>\n",
       "      <td>0</td>\n",
       "      <td>0</td>\n",
       "      <td>1</td>\n",
       "      <td>0</td>\n",
       "      <td>0</td>\n",
       "    </tr>\n",
       "  </tbody>\n",
       "</table>\n",
       "</div>"
      ],
      "text/plain": [
       "   userId  movieId  rating  timestamp  (no genres listed)  Action  Adventure  \\\n",
       "0       0        0     4.0  964982703                   0       0          1   \n",
       "1       0        2     4.0  964981247                   0       0          0   \n",
       "2       0        5     4.0  964982224                   0       1          0   \n",
       "3       0       43     5.0  964983815                   0       0          0   \n",
       "4       0       46     5.0  964982931                   0       0          0   \n",
       "\n",
       "   Animation  Children  Comedy  Crime  Documentary  Drama  Fantasy  Film-Noir  \\\n",
       "0          1         1       1      0            0      0        1          0   \n",
       "1          0         0       1      0            0      0        0          0   \n",
       "2          0         0       0      1            0      0        0          0   \n",
       "3          0         0       0      0            0      0        0          0   \n",
       "4          0         0       0      1            0      0        0          0   \n",
       "\n",
       "   Horror  IMAX  Musical  Mystery  Romance  Sci-Fi  Thriller  War  Western  \n",
       "0       0     0        0        0        0       0         0    0        0  \n",
       "1       0     0        0        0        1       0         0    0        0  \n",
       "2       0     0        0        0        0       0         1    0        0  \n",
       "3       0     0        0        1        0       0         1    0        0  \n",
       "4       0     0        0        1        0       0         1    0        0  "
      ]
     },
     "execution_count": 9,
     "metadata": {},
     "output_type": "execute_result"
    }
   ],
   "source": [
    "# For each film find the genres that represent it. put 0 for each genres.\n",
    "movies_ratings = movies_ratings.join(pd.DataFrame(mlb.fit_transform(genres_list_df), columns = mlb.classes_, index = movies_ratings.index ))\n",
    "movies_ratings.head()"
   ]
  },
  {
   "cell_type": "code",
   "execution_count": 10,
   "id": "86b4bb21-878b-471b-9c8c-812796303f00",
   "metadata": {},
   "outputs": [],
   "source": [
    "movies_ratings.drop(columns=[\"(no genres listed)\"], inplace=True)"
   ]
  },
  {
   "cell_type": "markdown",
   "id": "81628990-045d-40d5-8d19-1bd25641ba68",
   "metadata": {},
   "source": [
    "#### Split Data : "
   ]
  },
  {
   "cell_type": "code",
   "execution_count": 11,
   "id": "e86b2c1b-0ec5-47b0-97e2-26f15486d23b",
   "metadata": {},
   "outputs": [
    {
     "name": "stdout",
     "output_type": "stream",
     "text": [
      "Train size = 1739421\n",
      "Test  size = 579807\n"
     ]
    }
   ],
   "source": [
    "train, test = train_test_split(movies_ratings, test_size=0.25)\n",
    "print(f\"Train size = {train.size}\")\n",
    "print(f\"Test  size = {test.size}\")"
   ]
  },
  {
   "cell_type": "code",
   "execution_count": 12,
   "id": "bd6ed737-477d-48dd-ba17-6624b348d73b",
   "metadata": {},
   "outputs": [],
   "source": [
    "# As I am loading a custom dataset, we need to define a reader.\n",
    "reader = Reader(rating_scale = (0.5, 5))\n",
    "train_data = Dataset.load_from_df(train[[\"userId\", \"movieId\", \"rating\"]], reader).build_full_trainset()\n",
    "testset = train_data.build_anti_testset()"
   ]
  },
  {
   "cell_type": "markdown",
   "id": "65dca086-dd44-4140-a6ee-78c00e9f09ca",
   "metadata": {},
   "source": [
    "## train model using collab filtering: "
   ]
  },
  {
   "cell_type": "code",
   "execution_count": 13,
   "id": "380a86c7-7be5-482c-8816-35d898eefdcd",
   "metadata": {},
   "outputs": [
    {
     "name": "stdout",
     "output_type": "stream",
     "text": [
      "Processing epoch 0\n",
      "Processing epoch 1\n",
      "Processing epoch 2\n",
      "Processing epoch 3\n",
      "Processing epoch 4\n",
      "Processing epoch 5\n",
      "Processing epoch 6\n",
      "Processing epoch 7\n",
      "Processing epoch 8\n",
      "Processing epoch 9\n",
      "Processing epoch 10\n",
      "Processing epoch 11\n",
      "Processing epoch 12\n",
      "Processing epoch 13\n",
      "Processing epoch 14\n",
      "Processing epoch 15\n",
      "Processing epoch 16\n",
      "Processing epoch 17\n",
      "Processing epoch 18\n",
      "Processing epoch 19\n",
      "Processing epoch 20\n",
      "Processing epoch 21\n",
      "Processing epoch 22\n",
      "Processing epoch 23\n",
      "Processing epoch 24\n",
      "Processing epoch 25\n",
      "Processing epoch 26\n",
      "Processing epoch 27\n",
      "Processing epoch 28\n",
      "Processing epoch 29\n"
     ]
    },
    {
     "data": {
      "text/plain": [
       "<surprise.prediction_algorithms.matrix_factorization.SVD at 0x1e32de91570>"
      ]
     },
     "execution_count": 13,
     "metadata": {},
     "output_type": "execute_result"
    }
   ],
   "source": [
    "# Alternating Least Squares (ALS), same as SVD but bias is not added.\n",
    "svd = SVD(random_state=0, n_factors=200, n_epochs=30,biased=False, verbose=True)\n",
    "svd.fit(train_data)"
   ]
  },
  {
   "cell_type": "markdown",
   "id": "97955be2-0333-4cfa-b784-2b0bd7e867fd",
   "metadata": {},
   "source": [
    "#### Root mean squared error\n",
    "\n",
    "$$\\text{RMSE} = \\sqrt{\\frac{1}{N} \\sum_{}(r_{ui} - \\hat{r}_{ui})^2}$$\n",
    "\n",
    "\n"
   ]
  },
  {
   "cell_type": "code",
   "execution_count": null,
   "id": "fd6332ec-b909-4ecb-a1dc-5b3d1e77bda5",
   "metadata": {},
   "outputs": [],
   "source": []
  },
  {
   "cell_type": "code",
   "execution_count": 14,
   "id": "0f9b846a-a823-4e2c-8030-ec052cfe2bc9",
   "metadata": {},
   "outputs": [
    {
     "name": "stdout",
     "output_type": "stream",
     "text": [
      "RMSE: 1.7818\n",
      "Root mean squared error = 1.7817934665946054\n"
     ]
    }
   ],
   "source": [
    "predictions_svd = svd.test(testset)\n",
    "rsme_value = accuracy.rmse(predictions_svd)\n",
    "print(f\"Root mean squared error = {rsme_value}\")"
   ]
  },
  {
   "cell_type": "markdown",
   "id": "963325fa-59d4-4276-90ad-33b585815283",
   "metadata": {},
   "source": [
    "## Recommendations : "
   ]
  },
  {
   "cell_type": "code",
   "execution_count": 15,
   "id": "0b88ca88-d914-4e1c-aded-11d54639cc62",
   "metadata": {},
   "outputs": [
    {
     "name": "stdout",
     "output_type": "stream",
     "text": [
      "0.5\n",
      "0.5\n",
      "0.5\n",
      "Top 3 Recommendations for User 58:\n",
      "1.Man of the Year (1995)\n",
      "2.Reckless (1995)\n",
      "3.Miami Rhapsody (1995)\n"
     ]
    }
   ],
   "source": [
    "user_id = 58\n",
    "n_recommendation = 3\n",
    "recommendations = get_top_n_recommendations(svd, movies_ratings,user_id, n_recommendation)\n",
    "top_n_movies_titles = movies[movies['movieId'].isin(recommendations)]['title'].tolist()\n",
    "print(f\"Top {n_recommendation} Recommendations for User {user_id}:\")\n",
    "for i, title in enumerate(top_n_movies_titles, 1):\n",
    "  print(f\"{i}.{title}\")"
   ]
  },
  {
   "cell_type": "code",
   "execution_count": null,
   "id": "ddba7f05-ae98-4571-a65d-9b8ee722957d",
   "metadata": {},
   "outputs": [],
   "source": []
  }
 ],
 "metadata": {
  "kernelspec": {
   "display_name": "Python 3 (ipykernel)",
   "language": "python",
   "name": "python3"
  },
  "language_info": {
   "codemirror_mode": {
    "name": "ipython",
    "version": 3
   },
   "file_extension": ".py",
   "mimetype": "text/x-python",
   "name": "python",
   "nbconvert_exporter": "python",
   "pygments_lexer": "ipython3",
   "version": "3.10.13"
  }
 },
 "nbformat": 4,
 "nbformat_minor": 5
}
